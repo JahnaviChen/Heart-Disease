{
 "cells": [
  {
   "cell_type": "markdown",
   "metadata": {},
   "source": [
    "## The Presence of Heart Disease"
   ]
  },
  {
   "cell_type": "markdown",
   "metadata": {},
   "source": [
    "**Introduction:** \n",
    "\n",
    "The term “heart disease” refers to several types of heart conditions. Heart disease describes a range of conditions that affect your heart. These can include; blood vessel disease, coronary artery disease, Heart rhythm problems, congenital heart defects, heart valve disease, disease of the heart muscle, heart infection. The most common of these is coronary artery disease, which affects the blood flow to the heart that can result in heart attacks and heart failure. Heart disease is a leading cause of death for men, women or most racial and ethnics groups around the world. One person dies every 36 seconds in the USA from cardiovascular Disease. Risk of heart disease can be influenced by many factors include; age, high blood pressure, and high blood cholesterol levels. Growing older increases your risk of damaged and narrowed arteries and a weakened or thickened heart muscle and therefore individuals older in age are more likely to have heart disease. High blood cholesterol can increase the risk of plaque formation and atherosclerosis and in turn increase the likelihood of heart disease in an individual. Moreover, uncontrolled high blood pressure can result in hardening and thickening of your arteries, narrowing the vessels through which blood flows, increaseing an individual's likelihood of having heart disease. Additionally important symptoms to notice in individuals who have heart disease are the type of chest pain they are having, as angina is chest pain or discomfort caused when your heart muscle doesn't get enough oxygen-rich blood(feels like pressure or squeezing in your chest) and is a major symptom of heart disease. Furthermore, angina chest pain along with irregular heartbeats in an individual can strongly indicate that they might have heart disease. \n",
    "\n",
    "Due to age, high blood pressure, high cholesterol being major risk factors of heart disease and the type of chest pain along with irregular heart beats being an important symptom of heart disease we decided that these factors would best predict the presence of heart disease in an individual. \n",
    "\n",
    "**Can we use the age, blood pressure, and cholesterol levels, type of chest pain and heart rate of an individual to predict whether or not they have heart disease?**\n",
    " \n",
    "This dataset shows information about several individuals that could contribute to heart disease, like blood pressure, chest pain, age, sex, blood sugar, heart rate, e.t.c, and whether or not they have heart disease. The goal of this database is to determine the presence of heart disease in a patient. This goal is represented by the POHD field, which refers to the presence of heart disease in an individual. It is an integer valued from 0 (no presence) to 4. Experiments with this database have focused on distinguishing presence of heart disease (a value from 1 through 4) from absence (0). In this database, sex is represented by integer values, with 0 representing female and 1 representing male. The serum_cholestoral field represents serum cholesterol in mg/dl. The chest_pain_type field is represented by integer values ranging from 1-4. A value of 1 indicates typical angina, 2 is atypical angina, 3 is non-anginal pain, and 4 is asymptomatic. \n"
   ]
  },
  {
   "cell_type": "markdown",
   "metadata": {},
   "source": [
    "***Load all libraries needed for data analysis**\n",
    "\n",
    "It is important that you load all the libraries below inorder to ensure that all of the functions needed to preform the data analysis for heart disease are loaded into tidyverse. "
   ]
  },
  {
   "cell_type": "code",
   "execution_count": 130,
   "metadata": {},
   "outputs": [
    {
     "name": "stderr",
     "output_type": "stream",
     "text": [
      "Registered S3 method overwritten by 'GGally':\n",
      "  method from   \n",
      "  +.gg   ggplot2\n",
      "\n"
     ]
    }
   ],
   "source": [
    "#load_libraries\n",
    "library(tidyverse)\n",
    "library(tidymodels)\n",
    "library(repr)\n",
    "library(readxl)\n",
    "library(testthat)\n",
    "library(digest)\n",
    "library(cowplot)\n",
    "library(GGally)\n",
    "\n",
    "options(repr.matrix.max.rows = 6)"
   ]
  },
  {
   "cell_type": "markdown",
   "metadata": {},
   "source": [
    "**1) Load data for analysis **\n",
    "\n",
    "Below we have read in all the datasets available to us using the same source of collecting this information, we then combined them together creating a larger data set with more data to use in our analysis. In each data set we converted the NA's in each column to question marks, to ensure that our data is usable and that our analysis does not lead to major errors. Additionally we created informative and readable column names to be able to determine what each comlumn represents and which column should be kept for our data analysis. "
   ]
  },
  {
   "cell_type": "code",
   "execution_count": 131,
   "metadata": {},
   "outputs": [
    {
     "name": "stderr",
     "output_type": "stream",
     "text": [
      "Parsed with column specification:\n",
      "cols(\n",
      "  X1 = \u001b[32mcol_double()\u001b[39m,\n",
      "  X2 = \u001b[32mcol_double()\u001b[39m,\n",
      "  X3 = \u001b[32mcol_double()\u001b[39m,\n",
      "  X4 = \u001b[32mcol_double()\u001b[39m,\n",
      "  X5 = \u001b[32mcol_double()\u001b[39m,\n",
      "  X6 = \u001b[32mcol_double()\u001b[39m,\n",
      "  X7 = \u001b[32mcol_double()\u001b[39m,\n",
      "  X8 = \u001b[32mcol_double()\u001b[39m,\n",
      "  X9 = \u001b[32mcol_double()\u001b[39m,\n",
      "  X10 = \u001b[32mcol_double()\u001b[39m,\n",
      "  X11 = \u001b[32mcol_double()\u001b[39m,\n",
      "  X12 = \u001b[32mcol_double()\u001b[39m,\n",
      "  X13 = \u001b[32mcol_double()\u001b[39m,\n",
      "  X14 = \u001b[32mcol_double()\u001b[39m\n",
      ")\n",
      "\n",
      "Parsed with column specification:\n",
      "cols(\n",
      "  X1 = \u001b[32mcol_double()\u001b[39m,\n",
      "  X2 = \u001b[32mcol_double()\u001b[39m,\n",
      "  X3 = \u001b[32mcol_double()\u001b[39m,\n",
      "  X4 = \u001b[32mcol_double()\u001b[39m,\n",
      "  X5 = \u001b[32mcol_double()\u001b[39m,\n",
      "  X6 = \u001b[32mcol_double()\u001b[39m,\n",
      "  X7 = \u001b[32mcol_double()\u001b[39m,\n",
      "  X8 = \u001b[32mcol_double()\u001b[39m,\n",
      "  X9 = \u001b[32mcol_double()\u001b[39m,\n",
      "  X10 = \u001b[32mcol_double()\u001b[39m,\n",
      "  X11 = \u001b[32mcol_double()\u001b[39m,\n",
      "  X12 = \u001b[32mcol_double()\u001b[39m,\n",
      "  X13 = \u001b[32mcol_double()\u001b[39m,\n",
      "  X14 = \u001b[32mcol_double()\u001b[39m\n",
      ")\n",
      "\n",
      "Parsed with column specification:\n",
      "cols(\n",
      "  X1 = \u001b[32mcol_double()\u001b[39m,\n",
      "  X2 = \u001b[32mcol_double()\u001b[39m,\n",
      "  X3 = \u001b[32mcol_double()\u001b[39m,\n",
      "  X4 = \u001b[32mcol_double()\u001b[39m,\n",
      "  X5 = \u001b[32mcol_double()\u001b[39m,\n",
      "  X6 = \u001b[32mcol_double()\u001b[39m,\n",
      "  X7 = \u001b[32mcol_double()\u001b[39m,\n",
      "  X8 = \u001b[32mcol_double()\u001b[39m,\n",
      "  X9 = \u001b[32mcol_double()\u001b[39m,\n",
      "  X10 = \u001b[32mcol_double()\u001b[39m,\n",
      "  X11 = \u001b[32mcol_double()\u001b[39m,\n",
      "  X12 = \u001b[32mcol_double()\u001b[39m,\n",
      "  X13 = \u001b[32mcol_double()\u001b[39m,\n",
      "  X14 = \u001b[32mcol_double()\u001b[39m\n",
      ")\n",
      "\n",
      "Parsed with column specification:\n",
      "cols(\n",
      "  X1 = \u001b[32mcol_double()\u001b[39m,\n",
      "  X2 = \u001b[32mcol_double()\u001b[39m,\n",
      "  X3 = \u001b[32mcol_double()\u001b[39m,\n",
      "  X4 = \u001b[32mcol_double()\u001b[39m,\n",
      "  X5 = \u001b[32mcol_double()\u001b[39m,\n",
      "  X6 = \u001b[32mcol_double()\u001b[39m,\n",
      "  X7 = \u001b[32mcol_double()\u001b[39m,\n",
      "  X8 = \u001b[32mcol_double()\u001b[39m,\n",
      "  X9 = \u001b[32mcol_double()\u001b[39m,\n",
      "  X10 = \u001b[32mcol_double()\u001b[39m,\n",
      "  X11 = \u001b[32mcol_double()\u001b[39m,\n",
      "  X12 = \u001b[32mcol_double()\u001b[39m,\n",
      "  X13 = \u001b[32mcol_double()\u001b[39m,\n",
      "  X14 = \u001b[32mcol_double()\u001b[39m\n",
      ")\n",
      "\n",
      "Joining, by = c(\"X1\", \"X2\", \"X3\", \"X4\", \"X5\", \"X6\", \"X7\", \"X8\", \"X9\", \"X10\", \"X11\", \"X12\", \"X13\", \"X14\")\n",
      "\n",
      "Joining, by = c(\"X1\", \"X2\", \"X3\", \"X4\", \"X5\", \"X6\", \"X7\", \"X8\", \"X9\", \"X10\", \"X11\", \"X12\", \"X13\", \"X14\")\n",
      "\n",
      "Joining, by = c(\"X1\", \"X2\", \"X3\", \"X4\", \"X5\", \"X6\", \"X7\", \"X8\", \"X9\", \"X10\", \"X11\", \"X12\", \"X13\", \"X14\")\n",
      "\n"
     ]
    },
    {
     "data": {
      "text/html": [
       "<table>\n",
       "<caption>A tibble: 6 × 14</caption>\n",
       "<thead>\n",
       "\t<tr><th scope=col>Age</th><th scope=col>Sex</th><th scope=col>chest_pain_type</th><th scope=col>resting_blood_pressure</th><th scope=col>serum_cholestorol</th><th scope=col>fasting_blood_sugar</th><th scope=col>resting_electrocardiographic_results</th><th scope=col>maximum_heart_rate</th><th scope=col>exercise_induced_angina</th><th scope=col>oldpeak</th><th scope=col>slope</th><th scope=col>ca</th><th scope=col>thal</th><th scope=col>POHD</th></tr>\n",
       "\t<tr><th scope=col>&lt;dbl&gt;</th><th scope=col>&lt;dbl&gt;</th><th scope=col>&lt;dbl&gt;</th><th scope=col>&lt;dbl&gt;</th><th scope=col>&lt;dbl&gt;</th><th scope=col>&lt;dbl&gt;</th><th scope=col>&lt;dbl&gt;</th><th scope=col>&lt;dbl&gt;</th><th scope=col>&lt;dbl&gt;</th><th scope=col>&lt;dbl&gt;</th><th scope=col>&lt;dbl&gt;</th><th scope=col>&lt;dbl&gt;</th><th scope=col>&lt;dbl&gt;</th><th scope=col>&lt;dbl&gt;</th></tr>\n",
       "</thead>\n",
       "<tbody>\n",
       "\t<tr><td>63</td><td>1</td><td>1</td><td>145</td><td>233</td><td>1</td><td>2</td><td>150</td><td>0</td><td>2.3</td><td>3</td><td>0</td><td>6</td><td>0</td></tr>\n",
       "\t<tr><td>67</td><td>1</td><td>4</td><td>160</td><td>286</td><td>0</td><td>2</td><td>108</td><td>1</td><td>1.5</td><td>2</td><td>3</td><td>3</td><td>2</td></tr>\n",
       "\t<tr><td>67</td><td>1</td><td>4</td><td>120</td><td>229</td><td>0</td><td>2</td><td>129</td><td>1</td><td>2.6</td><td>2</td><td>2</td><td>7</td><td>1</td></tr>\n",
       "\t<tr><td>37</td><td>1</td><td>3</td><td>130</td><td>250</td><td>0</td><td>0</td><td>187</td><td>0</td><td>3.5</td><td>3</td><td>0</td><td>3</td><td>0</td></tr>\n",
       "\t<tr><td>41</td><td>0</td><td>2</td><td>130</td><td>204</td><td>0</td><td>2</td><td>172</td><td>0</td><td>1.4</td><td>1</td><td>0</td><td>3</td><td>0</td></tr>\n",
       "\t<tr><td>56</td><td>1</td><td>2</td><td>120</td><td>236</td><td>0</td><td>0</td><td>178</td><td>0</td><td>0.8</td><td>1</td><td>0</td><td>3</td><td>0</td></tr>\n",
       "</tbody>\n",
       "</table>\n"
      ],
      "text/latex": [
       "A tibble: 6 × 14\n",
       "\\begin{tabular}{llllllllllllll}\n",
       " Age & Sex & chest\\_pain\\_type & resting\\_blood\\_pressure & serum\\_cholestorol & fasting\\_blood\\_sugar & resting\\_electrocardiographic\\_results & maximum\\_heart\\_rate & exercise\\_induced\\_angina & oldpeak & slope & ca & thal & POHD\\\\\n",
       " <dbl> & <dbl> & <dbl> & <dbl> & <dbl> & <dbl> & <dbl> & <dbl> & <dbl> & <dbl> & <dbl> & <dbl> & <dbl> & <dbl>\\\\\n",
       "\\hline\n",
       "\t 63 & 1 & 1 & 145 & 233 & 1 & 2 & 150 & 0 & 2.3 & 3 & 0 & 6 & 0\\\\\n",
       "\t 67 & 1 & 4 & 160 & 286 & 0 & 2 & 108 & 1 & 1.5 & 2 & 3 & 3 & 2\\\\\n",
       "\t 67 & 1 & 4 & 120 & 229 & 0 & 2 & 129 & 1 & 2.6 & 2 & 2 & 7 & 1\\\\\n",
       "\t 37 & 1 & 3 & 130 & 250 & 0 & 0 & 187 & 0 & 3.5 & 3 & 0 & 3 & 0\\\\\n",
       "\t 41 & 0 & 2 & 130 & 204 & 0 & 2 & 172 & 0 & 1.4 & 1 & 0 & 3 & 0\\\\\n",
       "\t 56 & 1 & 2 & 120 & 236 & 0 & 0 & 178 & 0 & 0.8 & 1 & 0 & 3 & 0\\\\\n",
       "\\end{tabular}\n"
      ],
      "text/markdown": [
       "\n",
       "A tibble: 6 × 14\n",
       "\n",
       "| Age &lt;dbl&gt; | Sex &lt;dbl&gt; | chest_pain_type &lt;dbl&gt; | resting_blood_pressure &lt;dbl&gt; | serum_cholestorol &lt;dbl&gt; | fasting_blood_sugar &lt;dbl&gt; | resting_electrocardiographic_results &lt;dbl&gt; | maximum_heart_rate &lt;dbl&gt; | exercise_induced_angina &lt;dbl&gt; | oldpeak &lt;dbl&gt; | slope &lt;dbl&gt; | ca &lt;dbl&gt; | thal &lt;dbl&gt; | POHD &lt;dbl&gt; |\n",
       "|---|---|---|---|---|---|---|---|---|---|---|---|---|---|\n",
       "| 63 | 1 | 1 | 145 | 233 | 1 | 2 | 150 | 0 | 2.3 | 3 | 0 | 6 | 0 |\n",
       "| 67 | 1 | 4 | 160 | 286 | 0 | 2 | 108 | 1 | 1.5 | 2 | 3 | 3 | 2 |\n",
       "| 67 | 1 | 4 | 120 | 229 | 0 | 2 | 129 | 1 | 2.6 | 2 | 2 | 7 | 1 |\n",
       "| 37 | 1 | 3 | 130 | 250 | 0 | 0 | 187 | 0 | 3.5 | 3 | 0 | 3 | 0 |\n",
       "| 41 | 0 | 2 | 130 | 204 | 0 | 2 | 172 | 0 | 1.4 | 1 | 0 | 3 | 0 |\n",
       "| 56 | 1 | 2 | 120 | 236 | 0 | 0 | 178 | 0 | 0.8 | 1 | 0 | 3 | 0 |\n",
       "\n"
      ],
      "text/plain": [
       "  Age Sex chest_pain_type resting_blood_pressure serum_cholestorol\n",
       "1 63  1   1               145                    233              \n",
       "2 67  1   4               160                    286              \n",
       "3 67  1   4               120                    229              \n",
       "4 37  1   3               130                    250              \n",
       "5 41  0   2               130                    204              \n",
       "6 56  1   2               120                    236              \n",
       "  fasting_blood_sugar resting_electrocardiographic_results maximum_heart_rate\n",
       "1 1                   2                                    150               \n",
       "2 0                   2                                    108               \n",
       "3 0                   2                                    129               \n",
       "4 0                   0                                    187               \n",
       "5 0                   2                                    172               \n",
       "6 0                   0                                    178               \n",
       "  exercise_induced_angina oldpeak slope ca thal POHD\n",
       "1 0                       2.3     3     0  6    0   \n",
       "2 1                       1.5     2     3  3    2   \n",
       "3 1                       2.6     2     2  7    1   \n",
       "4 0                       3.5     3     0  3    0   \n",
       "5 0                       1.4     1     0  3    0   \n",
       "6 0                       0.8     1     0  3    0   "
      ]
     },
     "metadata": {},
     "output_type": "display_data"
    }
   ],
   "source": [
    "\n",
    "#We have read in and combined all datasets and tidied the data. \n",
    "#The NAs in the datasets are replaced with question marks.\n",
    "\n",
    "cleveland_url <- \"https://archive.ics.uci.edu/ml/machine-learning-databases/heart-disease/processed.cleveland.data\"\n",
    "hungary_url <- \"https://archive.ics.uci.edu/ml/machine-learning-databases/heart-disease/processed.hungarian.data\"\n",
    "switzerland_url <- \"https://archive.ics.uci.edu/ml/machine-learning-databases/heart-disease/processed.switzerland.data\"\n",
    "va_url <- \"https://archive.ics.uci.edu/ml/machine-learning-databases/heart-disease/processed.va.data\"\n",
    "\n",
    "cleveland_data <- read_csv(cleveland_url, col_names = FALSE, na = \"?\")\n",
    "hungary_data <- read_csv(hungary_url, col_names = FALSE, na = \"?\")\n",
    "switzerland_data <- read_csv(switzerland_url, col_names = FALSE, na = \"?\")\n",
    "va_data <- read_csv(va_url, col_names = FALSE, na = \"?\")\n",
    "\n",
    "heart_disease_data1 <- full_join(cleveland_data, hungary_data) %>%\n",
    "    full_join(switzerland_data) %>%\n",
    "    full_join(va_data)\n",
    "\n",
    "colnames(heart_disease_data1) <- c(\"Age\", \"Sex\", \"chest_pain_type\", \"resting_blood_pressure\", \"serum_cholestorol\", \"fasting_blood_sugar\", \"resting_electrocardiographic_results\",\n",
    "                \"maximum_heart_rate\" , \"exercise_induced_angina\" , \"oldpeak\" , \"slope\" , \"ca\" , \"thal\" , \"POHD\")\n",
    "\n",
    "head(heart_disease_data1)"
   ]
  },
  {
   "cell_type": "markdown",
   "metadata": {},
   "source": [
    "**2) Clean and wrangle data into a tidy format that can be used for the analysis**\n",
    "\n",
    "In our data set, the presence of heart disease column (POHD) has been mutated with the purpose of  distinguishing the presence of heart disease (positive) from lack of heart disease (negative). We then selected the desired columns for our analysis which include; the factors we wish to use for our classification(age, chest pain type, serum cholesterol levels, resting blood pressure, maximum heart rate) along with the column we are trying to predict which is the presence of heart disease. We then remove the NA's in our data in order to clean the data to make it usable for our data analysis."
   ]
  },
  {
   "cell_type": "code",
   "execution_count": 117,
   "metadata": {},
   "outputs": [
    {
     "data": {
      "text/html": [
       "<table>\n",
       "<caption>A tibble: 834 × 6</caption>\n",
       "<thead>\n",
       "\t<tr><th scope=col>Age</th><th scope=col>chest_pain_type</th><th scope=col>serum_cholestorol</th><th scope=col>Presence_of_Heart_Disease</th><th scope=col>resting_blood_pressure</th><th scope=col>maximum_heart_rate</th></tr>\n",
       "\t<tr><th scope=col>&lt;dbl&gt;</th><th scope=col>&lt;dbl&gt;</th><th scope=col>&lt;dbl&gt;</th><th scope=col>&lt;fct&gt;</th><th scope=col>&lt;dbl&gt;</th><th scope=col>&lt;dbl&gt;</th></tr>\n",
       "</thead>\n",
       "<tbody>\n",
       "\t<tr><td>63</td><td>1</td><td>233</td><td>N</td><td>145</td><td>150</td></tr>\n",
       "\t<tr><td>67</td><td>4</td><td>286</td><td>P</td><td>160</td><td>108</td></tr>\n",
       "\t<tr><td>67</td><td>4</td><td>229</td><td>P</td><td>120</td><td>129</td></tr>\n",
       "\t<tr><td>⋮</td><td>⋮</td><td>⋮</td><td>⋮</td><td>⋮</td><td>⋮</td></tr>\n",
       "\t<tr><td>54</td><td>4</td><td>333</td><td>P</td><td>127</td><td>154</td></tr>\n",
       "\t<tr><td>55</td><td>4</td><td>223</td><td>P</td><td>122</td><td>100</td></tr>\n",
       "\t<tr><td>62</td><td>2</td><td>254</td><td>P</td><td>120</td><td> 93</td></tr>\n",
       "</tbody>\n",
       "</table>\n"
      ],
      "text/latex": [
       "A tibble: 834 × 6\n",
       "\\begin{tabular}{llllll}\n",
       " Age & chest\\_pain\\_type & serum\\_cholestorol & Presence\\_of\\_Heart\\_Disease & resting\\_blood\\_pressure & maximum\\_heart\\_rate\\\\\n",
       " <dbl> & <dbl> & <dbl> & <fct> & <dbl> & <dbl>\\\\\n",
       "\\hline\n",
       "\t 63 & 1 & 233 & N & 145 & 150\\\\\n",
       "\t 67 & 4 & 286 & P & 160 & 108\\\\\n",
       "\t 67 & 4 & 229 & P & 120 & 129\\\\\n",
       "\t ⋮ & ⋮ & ⋮ & ⋮ & ⋮ & ⋮\\\\\n",
       "\t 54 & 4 & 333 & P & 127 & 154\\\\\n",
       "\t 55 & 4 & 223 & P & 122 & 100\\\\\n",
       "\t 62 & 2 & 254 & P & 120 &  93\\\\\n",
       "\\end{tabular}\n"
      ],
      "text/markdown": [
       "\n",
       "A tibble: 834 × 6\n",
       "\n",
       "| Age &lt;dbl&gt; | chest_pain_type &lt;dbl&gt; | serum_cholestorol &lt;dbl&gt; | Presence_of_Heart_Disease &lt;fct&gt; | resting_blood_pressure &lt;dbl&gt; | maximum_heart_rate &lt;dbl&gt; |\n",
       "|---|---|---|---|---|---|\n",
       "| 63 | 1 | 233 | N | 145 | 150 |\n",
       "| 67 | 4 | 286 | P | 160 | 108 |\n",
       "| 67 | 4 | 229 | P | 120 | 129 |\n",
       "| ⋮ | ⋮ | ⋮ | ⋮ | ⋮ | ⋮ |\n",
       "| 54 | 4 | 333 | P | 127 | 154 |\n",
       "| 55 | 4 | 223 | P | 122 | 100 |\n",
       "| 62 | 2 | 254 | P | 120 |  93 |\n",
       "\n"
      ],
      "text/plain": [
       "    Age chest_pain_type serum_cholestorol Presence_of_Heart_Disease\n",
       "1   63  1               233               N                        \n",
       "2   67  4               286               P                        \n",
       "3   67  4               229               P                        \n",
       "⋮   ⋮   ⋮               ⋮                 ⋮                        \n",
       "832 54  4               333               P                        \n",
       "833 55  4               223               P                        \n",
       "834 62  2               254               P                        \n",
       "    resting_blood_pressure maximum_heart_rate\n",
       "1   145                    150               \n",
       "2   160                    108               \n",
       "3   120                    129               \n",
       "⋮   ⋮                      ⋮                 \n",
       "832 127                    154               \n",
       "833 122                    100               \n",
       "834 120                     93               "
      ]
     },
     "metadata": {},
     "output_type": "display_data"
    }
   ],
   "source": [
    "POHD2 <- mutate(heart_disease_data1, Presence_of_Heart_Disease = ifelse(POHD>0, \"P\", \"N\"))\n",
    "\n",
    "#select for desired columns\n",
    "heart_data <- POHD2 %>%\n",
    "                    select(Age, chest_pain_type, serum_cholestorol, Presence_of_Heart_Disease, resting_blood_pressure, maximum_heart_rate) %>%\n",
    "                    mutate(Presence_of_Heart_Disease = as_factor(Presence_of_Heart_Disease))\n",
    "#remove NAs\n",
    "heart_disease_data1 <- na.omit(heart_data)\n",
    "heart_disease_data1"
   ]
  },
  {
   "cell_type": "markdown",
   "metadata": {},
   "source": [
    "**3) Split data into testing or training data**\n",
    "\n",
    "Below we have set the seed when splitting our data to ensure that it is reproducible. We then split our data into training and testing data to ensure that we can determine how accurate our model is."
   ]
  },
  {
   "cell_type": "code",
   "execution_count": 118,
   "metadata": {},
   "outputs": [
    {
     "data": {
      "text/html": [
       "<table>\n",
       "<caption>A tibble: 585 × 6</caption>\n",
       "<thead>\n",
       "\t<tr><th scope=col>Age</th><th scope=col>chest_pain_type</th><th scope=col>serum_cholestorol</th><th scope=col>Presence_of_Heart_Disease</th><th scope=col>resting_blood_pressure</th><th scope=col>maximum_heart_rate</th></tr>\n",
       "\t<tr><th scope=col>&lt;dbl&gt;</th><th scope=col>&lt;dbl&gt;</th><th scope=col>&lt;dbl&gt;</th><th scope=col>&lt;fct&gt;</th><th scope=col>&lt;dbl&gt;</th><th scope=col>&lt;dbl&gt;</th></tr>\n",
       "</thead>\n",
       "<tbody>\n",
       "\t<tr><td>63</td><td>1</td><td>233</td><td>N</td><td>145</td><td>150</td></tr>\n",
       "\t<tr><td>67</td><td>4</td><td>286</td><td>P</td><td>160</td><td>108</td></tr>\n",
       "\t<tr><td>67</td><td>4</td><td>229</td><td>P</td><td>120</td><td>129</td></tr>\n",
       "\t<tr><td>⋮</td><td>⋮</td><td>⋮</td><td>⋮</td><td>⋮</td><td>⋮</td></tr>\n",
       "\t<tr><td>46</td><td>4</td><td>310</td><td>P</td><td>134</td><td>126</td></tr>\n",
       "\t<tr><td>54</td><td>4</td><td>333</td><td>P</td><td>127</td><td>154</td></tr>\n",
       "\t<tr><td>55</td><td>4</td><td>223</td><td>P</td><td>122</td><td>100</td></tr>\n",
       "</tbody>\n",
       "</table>\n"
      ],
      "text/latex": [
       "A tibble: 585 × 6\n",
       "\\begin{tabular}{llllll}\n",
       " Age & chest\\_pain\\_type & serum\\_cholestorol & Presence\\_of\\_Heart\\_Disease & resting\\_blood\\_pressure & maximum\\_heart\\_rate\\\\\n",
       " <dbl> & <dbl> & <dbl> & <fct> & <dbl> & <dbl>\\\\\n",
       "\\hline\n",
       "\t 63 & 1 & 233 & N & 145 & 150\\\\\n",
       "\t 67 & 4 & 286 & P & 160 & 108\\\\\n",
       "\t 67 & 4 & 229 & P & 120 & 129\\\\\n",
       "\t ⋮ & ⋮ & ⋮ & ⋮ & ⋮ & ⋮\\\\\n",
       "\t 46 & 4 & 310 & P & 134 & 126\\\\\n",
       "\t 54 & 4 & 333 & P & 127 & 154\\\\\n",
       "\t 55 & 4 & 223 & P & 122 & 100\\\\\n",
       "\\end{tabular}\n"
      ],
      "text/markdown": [
       "\n",
       "A tibble: 585 × 6\n",
       "\n",
       "| Age &lt;dbl&gt; | chest_pain_type &lt;dbl&gt; | serum_cholestorol &lt;dbl&gt; | Presence_of_Heart_Disease &lt;fct&gt; | resting_blood_pressure &lt;dbl&gt; | maximum_heart_rate &lt;dbl&gt; |\n",
       "|---|---|---|---|---|---|\n",
       "| 63 | 1 | 233 | N | 145 | 150 |\n",
       "| 67 | 4 | 286 | P | 160 | 108 |\n",
       "| 67 | 4 | 229 | P | 120 | 129 |\n",
       "| ⋮ | ⋮ | ⋮ | ⋮ | ⋮ | ⋮ |\n",
       "| 46 | 4 | 310 | P | 134 | 126 |\n",
       "| 54 | 4 | 333 | P | 127 | 154 |\n",
       "| 55 | 4 | 223 | P | 122 | 100 |\n",
       "\n"
      ],
      "text/plain": [
       "    Age chest_pain_type serum_cholestorol Presence_of_Heart_Disease\n",
       "1   63  1               233               N                        \n",
       "2   67  4               286               P                        \n",
       "3   67  4               229               P                        \n",
       "⋮   ⋮   ⋮               ⋮                 ⋮                        \n",
       "583 46  4               310               P                        \n",
       "584 54  4               333               P                        \n",
       "585 55  4               223               P                        \n",
       "    resting_blood_pressure maximum_heart_rate\n",
       "1   145                    150               \n",
       "2   160                    108               \n",
       "3   120                    129               \n",
       "⋮   ⋮                      ⋮                 \n",
       "583 134                    126               \n",
       "584 127                    154               \n",
       "585 122                    100               "
      ]
     },
     "metadata": {},
     "output_type": "display_data"
    }
   ],
   "source": [
    "set.seed(1234)\n",
    "\n",
    "heart_disease_split <- initial_split(heart_disease_data1, prop = 0.70, strata = Presence_of_Heart_Disease)\n",
    "heart_disease_train <- training(heart_disease_split)\n",
    "heart_disease_test <- testing(heart_disease_split)\n",
    "\n",
    "heart_disease_train"
   ]
  },
  {
   "cell_type": "markdown",
   "metadata": {},
   "source": [
    "**4) Summarize the data into tables that are relevant to our analysis**\n",
    "\n",
    "Below we have summarized our data into two tables. The first table below summarizes the total number of variables corresponding to positive and negative heart disease in our data. The second table summarizes the average of each column that we are using in our data analysis.\n"
   ]
  },
  {
   "cell_type": "code",
   "execution_count": 119,
   "metadata": {},
   "outputs": [
    {
     "name": "stderr",
     "output_type": "stream",
     "text": [
      "`summarise()` ungrouping output (override with `.groups` argument)\n",
      "\n"
     ]
    },
    {
     "data": {
      "text/html": [
       "<table>\n",
       "<caption>A tibble: 2 × 2</caption>\n",
       "<thead>\n",
       "\t<tr><th scope=col>Presence_of_Heart_Disease</th><th scope=col>Number of variable</th></tr>\n",
       "\t<tr><th scope=col>&lt;fct&gt;</th><th scope=col>&lt;int&gt;</th></tr>\n",
       "</thead>\n",
       "<tbody>\n",
       "\t<tr><td>N</td><td>262</td></tr>\n",
       "\t<tr><td>P</td><td>323</td></tr>\n",
       "</tbody>\n",
       "</table>\n"
      ],
      "text/latex": [
       "A tibble: 2 × 2\n",
       "\\begin{tabular}{ll}\n",
       " Presence\\_of\\_Heart\\_Disease & Number of variable\\\\\n",
       " <fct> & <int>\\\\\n",
       "\\hline\n",
       "\t N & 262\\\\\n",
       "\t P & 323\\\\\n",
       "\\end{tabular}\n"
      ],
      "text/markdown": [
       "\n",
       "A tibble: 2 × 2\n",
       "\n",
       "| Presence_of_Heart_Disease &lt;fct&gt; | Number of variable &lt;int&gt; |\n",
       "|---|---|\n",
       "| N | 262 |\n",
       "| P | 323 |\n",
       "\n"
      ],
      "text/plain": [
       "  Presence_of_Heart_Disease Number of variable\n",
       "1 N                         262               \n",
       "2 P                         323               "
      ]
     },
     "metadata": {},
     "output_type": "display_data"
    },
    {
     "data": {
      "text/html": [
       "<table>\n",
       "<caption>A tibble: 1 × 5</caption>\n",
       "<thead>\n",
       "\t<tr><th scope=col>Mean Age</th><th scope=col>Mean serum cholestoral</th><th scope=col>Mean Chest Pain Type</th><th scope=col>Mean Resting Blood Pressure</th><th scope=col>Mean maximum heart rate</th></tr>\n",
       "\t<tr><th scope=col>&lt;dbl&gt;</th><th scope=col>&lt;dbl&gt;</th><th scope=col>&lt;dbl&gt;</th><th scope=col>&lt;dbl&gt;</th><th scope=col>&lt;dbl&gt;</th></tr>\n",
       "</thead>\n",
       "<tbody>\n",
       "\t<tr><td>52.78291</td><td>197.2325</td><td>3.261538</td><td>131.3744</td><td>137.9812</td></tr>\n",
       "</tbody>\n",
       "</table>\n"
      ],
      "text/latex": [
       "A tibble: 1 × 5\n",
       "\\begin{tabular}{lllll}\n",
       " Mean Age & Mean serum cholestoral & Mean Chest Pain Type & Mean Resting Blood Pressure & Mean maximum heart rate\\\\\n",
       " <dbl> & <dbl> & <dbl> & <dbl> & <dbl>\\\\\n",
       "\\hline\n",
       "\t 52.78291 & 197.2325 & 3.261538 & 131.3744 & 137.9812\\\\\n",
       "\\end{tabular}\n"
      ],
      "text/markdown": [
       "\n",
       "A tibble: 1 × 5\n",
       "\n",
       "| Mean Age &lt;dbl&gt; | Mean serum cholestoral &lt;dbl&gt; | Mean Chest Pain Type &lt;dbl&gt; | Mean Resting Blood Pressure &lt;dbl&gt; | Mean maximum heart rate &lt;dbl&gt; |\n",
       "|---|---|---|---|---|\n",
       "| 52.78291 | 197.2325 | 3.261538 | 131.3744 | 137.9812 |\n",
       "\n"
      ],
      "text/plain": [
       "  Mean Age Mean serum cholestoral Mean Chest Pain Type\n",
       "1 52.78291 197.2325               3.261538            \n",
       "  Mean Resting Blood Pressure Mean maximum heart rate\n",
       "1 131.3744                    137.9812               "
      ]
     },
     "metadata": {},
     "output_type": "display_data"
    }
   ],
   "source": [
    "#useful Tables \n",
    "\n",
    "summerized_POHD <- heart_disease_train %>%\n",
    "    group_by(Presence_of_Heart_Disease) %>%\n",
    "    summarize(\"Number of variable\"= n()) \n",
    "\n",
    "mean_variables <- summarize(heart_disease_train,\n",
    "                           \"Mean Age\" = mean(Age),\n",
    "                           \"Mean serum cholestoral\" = mean(serum_cholestorol),\n",
    "                           \"Mean Chest Pain Type\" = mean(chest_pain_type),\n",
    "                           \"Mean Resting Blood Pressure\" = mean(resting_blood_pressure), \n",
    "                           \"Mean maximum heart rate\" = mean(maximum_heart_rate)) \n",
    "summerized_POHD\n",
    "mean_variables"
   ]
  },
  {
   "cell_type": "markdown",
   "metadata": {},
   "source": [
    "The first table shows the number of rows that correspond to positive and negative POHD values. We can use this summary to see that we have similar numbers of positive and negative values for heart disease presence; therefore, upsampling is not needed. \n",
    "\n",
    "The second table shows the mean values of our predictors, which can be useful in determining the average of each factor in the population. This can allow you to make the inference that if an individual's observations greatly differ from the averages of the population that they may be at a greater risk of heart disease. "
   ]
  },
  {
   "cell_type": "markdown",
   "metadata": {},
   "source": [
    "**5) Created a recipe and scaled our data**\n",
    "\n",
    "Below we created a recipe for our data and scaled our predictors to make sure that they were of equal importance when performing our data analysis. We then applied this recipe to our data set."
   ]
  },
  {
   "cell_type": "code",
   "execution_count": 120,
   "metadata": {},
   "outputs": [],
   "source": [
    "#scaled Data \n",
    "heart_disease_recipe <- recipe(Presence_of_Heart_Disease ~ Age + serum_cholestorol + chest_pain_type + resting_blood_pressure + maximum_heart_rate, data = heart_disease_train ) %>%\n",
    "    step_scale(all_predictors()) %>%\n",
    "    step_center(all_predictors()) \n",
    "heart_disease_scaled <- heart_disease_recipe %>%\n",
    "        prep() %>%\n",
    "        bake(heart_disease_train) "
   ]
  },
  {
   "cell_type": "markdown",
   "metadata": {},
   "source": [
    "**5) Created visualization of our analyis**\n",
    "\n",
    "Below we created histograms to visulize the relationship between our factors and the presence of heart disease in an individual. "
   ]
  },
  {
   "cell_type": "code",
   "execution_count": 121,
   "metadata": {},
   "outputs": [
    {
     "name": "stderr",
     "output_type": "stream",
     "text": [
      "Warning message:\n",
      "“Removed 12 rows containing missing values (geom_bar).”\n"
     ]
    },
    {
     "data": {
      "image/png": "[encoded data removed]",
      "text/plain": [
       "plot without title"
      ]
     },
     "metadata": {
      "image/png": {
       "height": 600,
       "width": 900
      }
     },
     "output_type": "display_data"
    }
   ],
   "source": [
    "options(repr.plot.width = 15, repr.plot.height = 10)\n",
    "\n",
    "plot_a <- heart_disease_scaled %>%\n",
    "    ggplot(aes(x = Age, fill = Presence_of_Heart_Disease)) + \n",
    "    geom_histogram(position = 'fill', color = \"black\", bins = 25) + \n",
    "    xlab(\"Age\") +\n",
    "    ylab(\"Frequency\") +\n",
    "    labs(fill = \"Presence of Heart Disease\") +\n",
    "    ggtitle(\"Age and Heart Disease\") \n",
    "\n",
    "plot_b <- heart_disease_scaled %>%\n",
    "   ggplot(aes(x = serum_cholestorol, fill = Presence_of_Heart_Disease)) + \n",
    "   geom_histogram(position = 'fill', color = \"black\", bins = 25) + \n",
    "   xlab(\"Cholesterol\") +\n",
    "   ylab(\"Frequency\") +\n",
    "   labs(fill = \"Presence of Heart Disease\") +\n",
    "   ggtitle(\"Cholesterol and Heart Disease\") \n",
    "\n",
    "plot_c <- heart_disease_scaled %>%\n",
    "   ggplot(aes(x = maximum_heart_rate, fill = Presence_of_Heart_Disease)) + \n",
    "   geom_histogram(position = 'fill', color = \"black\", bins = 25) + \n",
    "   xlab(\"Heart Rate\") +\n",
    "   ylab(\"Frequency\") +\n",
    "   labs(fill = \"Presence of Heart Disease\") +\n",
    "   ggtitle(\"Heart Rate and Heart Disease\") \n",
    "\n",
    "plot_grid(plot_a, plot_b, plot_c)"
   ]
  },
  {
   "cell_type": "markdown",
   "metadata": {},
   "source": [
    "**_Interpretations_**\n",
    "\n",
    "Histograms are used to visualize our data. These graphs show the relationship between our predictors and presence of heart disease. This lets us clearly see how each predictor impacts risk of heart disease. The predictor values have been scaled to ensure that all observations will be on a comparable scale. The plots show that age, cholesterol, and heart rate are good predictors.\n"
   ]
  },
  {
   "cell_type": "markdown",
   "metadata": {},
   "source": [
    "# Data Analyis "
   ]
  },
  {
   "cell_type": "code",
   "execution_count": 122,
   "metadata": {},
   "outputs": [
    {
     "data": {
      "text/html": [
       "<table>\n",
       "<caption>A tibble: 30 × 7</caption>\n",
       "<thead>\n",
       "\t<tr><th scope=col>neighbors</th><th scope=col>.metric</th><th scope=col>.estimator</th><th scope=col>mean</th><th scope=col>n</th><th scope=col>std_err</th><th scope=col>.config</th></tr>\n",
       "\t<tr><th scope=col>&lt;int&gt;</th><th scope=col>&lt;chr&gt;</th><th scope=col>&lt;chr&gt;</th><th scope=col>&lt;dbl&gt;</th><th scope=col>&lt;int&gt;</th><th scope=col>&lt;dbl&gt;</th><th scope=col>&lt;chr&gt;</th></tr>\n",
       "</thead>\n",
       "<tbody>\n",
       "\t<tr><td>1</td><td>accuracy</td><td>binary</td><td>0.7163834</td><td>5</td><td>0.01305211</td><td>Model01</td></tr>\n",
       "\t<tr><td>2</td><td>accuracy</td><td>binary</td><td>0.7163834</td><td>5</td><td>0.01305211</td><td>Model02</td></tr>\n",
       "\t<tr><td>3</td><td>accuracy</td><td>binary</td><td>0.7555713</td><td>5</td><td>0.01580462</td><td>Model03</td></tr>\n",
       "\t<tr><td>⋮</td><td>⋮</td><td>⋮</td><td>⋮</td><td>⋮</td><td>⋮</td><td>⋮</td></tr>\n",
       "\t<tr><td>28</td><td>accuracy</td><td>binary</td><td>0.7709419</td><td>5</td><td>0.02057362</td><td>Model28</td></tr>\n",
       "\t<tr><td>29</td><td>accuracy</td><td>binary</td><td>0.7743899</td><td>5</td><td>0.01864078</td><td>Model29</td></tr>\n",
       "\t<tr><td>30</td><td>accuracy</td><td>binary</td><td>0.7743899</td><td>5</td><td>0.01864078</td><td>Model30</td></tr>\n",
       "</tbody>\n",
       "</table>\n"
      ],
      "text/latex": [
       "A tibble: 30 × 7\n",
       "\\begin{tabular}{lllllll}\n",
       " neighbors & .metric & .estimator & mean & n & std\\_err & .config\\\\\n",
       " <int> & <chr> & <chr> & <dbl> & <int> & <dbl> & <chr>\\\\\n",
       "\\hline\n",
       "\t 1 & accuracy & binary & 0.7163834 & 5 & 0.01305211 & Model01\\\\\n",
       "\t 2 & accuracy & binary & 0.7163834 & 5 & 0.01305211 & Model02\\\\\n",
       "\t 3 & accuracy & binary & 0.7555713 & 5 & 0.01580462 & Model03\\\\\n",
       "\t ⋮ & ⋮ & ⋮ & ⋮ & ⋮ & ⋮ & ⋮\\\\\n",
       "\t 28 & accuracy & binary & 0.7709419 & 5 & 0.02057362 & Model28\\\\\n",
       "\t 29 & accuracy & binary & 0.7743899 & 5 & 0.01864078 & Model29\\\\\n",
       "\t 30 & accuracy & binary & 0.7743899 & 5 & 0.01864078 & Model30\\\\\n",
       "\\end{tabular}\n"
      ],
      "text/markdown": [
       "\n",
       "A tibble: 30 × 7\n",
       "\n",
       "| neighbors &lt;int&gt; | .metric &lt;chr&gt; | .estimator &lt;chr&gt; | mean &lt;dbl&gt; | n &lt;int&gt; | std_err &lt;dbl&gt; | .config &lt;chr&gt; |\n",
       "|---|---|---|---|---|---|---|\n",
       "| 1 | accuracy | binary | 0.7163834 | 5 | 0.01305211 | Model01 |\n",
       "| 2 | accuracy | binary | 0.7163834 | 5 | 0.01305211 | Model02 |\n",
       "| 3 | accuracy | binary | 0.7555713 | 5 | 0.01580462 | Model03 |\n",
       "| ⋮ | ⋮ | ⋮ | ⋮ | ⋮ | ⋮ | ⋮ |\n",
       "| 28 | accuracy | binary | 0.7709419 | 5 | 0.02057362 | Model28 |\n",
       "| 29 | accuracy | binary | 0.7743899 | 5 | 0.01864078 | Model29 |\n",
       "| 30 | accuracy | binary | 0.7743899 | 5 | 0.01864078 | Model30 |\n",
       "\n"
      ],
      "text/plain": [
       "   neighbors .metric  .estimator mean      n std_err    .config\n",
       "1  1         accuracy binary     0.7163834 5 0.01305211 Model01\n",
       "2  2         accuracy binary     0.7163834 5 0.01305211 Model02\n",
       "3  3         accuracy binary     0.7555713 5 0.01580462 Model03\n",
       "⋮  ⋮         ⋮        ⋮          ⋮         ⋮ ⋮          ⋮      \n",
       "28 28        accuracy binary     0.7709419 5 0.02057362 Model28\n",
       "29 29        accuracy binary     0.7743899 5 0.01864078 Model29\n",
       "30 30        accuracy binary     0.7743899 5 0.01864078 Model30"
      ]
     },
     "metadata": {},
     "output_type": "display_data"
    }
   ],
   "source": [
    "knn_model <- nearest_neighbor(weight_func = \"rectangular\", neighbors = tune()) %>%\n",
    "    set_engine(\"kknn\") %>%\n",
    "    set_mode(\"classification\")\n",
    "\n",
    "heart_disease_vfold <- vfold_cv(heart_disease_train, v=5, strata = Presence_of_Heart_Disease)\n",
    "                              \n",
    "k_vals <- tibble(neighbors = seq(from=1, to=30))\n",
    "\n",
    "Heart_disease_results <- workflow() %>%\n",
    "    add_recipe(heart_disease_recipe) %>%\n",
    "    add_model(knn_model) %>%\n",
    "    tune_grid(resample =heart_disease_vfold, grid = k_vals) %>%\n",
    "    collect_metrics() %>% \n",
    "    filter(.metric == \"accuracy\")\n",
    "\n",
    "Heart_disease_results"
   ]
  },
  {
   "cell_type": "code",
   "execution_count": 123,
   "metadata": {},
   "outputs": [
    {
     "data": {
      "text/html": [
       "11"
      ],
      "text/latex": [
       "11"
      ],
      "text/markdown": [
       "11"
      ],
      "text/plain": [
       "[1] 11"
      ]
     },
     "metadata": {},
     "output_type": "display_data"
    }
   ],
   "source": [
    "#picking best k value\n",
    "\n",
    "best_k_value <- Heart_disease_results %>%\n",
    "    arrange(desc(mean)) %>%\n",
    "    slice(1)%>%\n",
    "    pull(neighbors)\n",
    "\n",
    "best_k_value"
   ]
  },
  {
   "cell_type": "code",
   "execution_count": 124,
   "metadata": {},
   "outputs": [
    {
     "data": {
      "text/html": [
       "78.2937703247464"
      ],
      "text/latex": [
       "78.2937703247464"
      ],
      "text/markdown": [
       "78.2937703247464"
      ],
      "text/plain": [
       "[1] 78.29377"
      ]
     },
     "metadata": {},
     "output_type": "display_data"
    }
   ],
   "source": [
    "#accuracy of k value\n",
    "\n",
    "mean_accuracy_best_k <- Heart_disease_results %>%\n",
    "    filter(neighbors == \"11\")%>%\n",
    "    pull(mean)*100\n",
    "mean_accuracy_best_k"
   ]
  },
  {
   "cell_type": "code",
   "execution_count": 126,
   "metadata": {},
   "outputs": [
    {
     "data": {
      "text/html": [
       "<table>\n",
       "<caption>A tibble: 1 × 3</caption>\n",
       "<thead>\n",
       "\t<tr><th scope=col>.metric</th><th scope=col>.estimator</th><th scope=col>.estimate</th></tr>\n",
       "\t<tr><th scope=col>&lt;chr&gt;</th><th scope=col>&lt;chr&gt;</th><th scope=col>&lt;dbl&gt;</th></tr>\n",
       "</thead>\n",
       "<tbody>\n",
       "\t<tr><td>accuracy</td><td>binary</td><td>0.817094</td></tr>\n",
       "</tbody>\n",
       "</table>\n"
      ],
      "text/latex": [
       "A tibble: 1 × 3\n",
       "\\begin{tabular}{lll}\n",
       " .metric & .estimator & .estimate\\\\\n",
       " <chr> & <chr> & <dbl>\\\\\n",
       "\\hline\n",
       "\t accuracy & binary & 0.817094\\\\\n",
       "\\end{tabular}\n"
      ],
      "text/markdown": [
       "\n",
       "A tibble: 1 × 3\n",
       "\n",
       "| .metric &lt;chr&gt; | .estimator &lt;chr&gt; | .estimate &lt;dbl&gt; |\n",
       "|---|---|---|\n",
       "| accuracy | binary | 0.817094 |\n",
       "\n"
      ],
      "text/plain": [
       "  .metric  .estimator .estimate\n",
       "1 accuracy binary     0.817094 "
      ]
     },
     "metadata": {},
     "output_type": "display_data"
    }
   ],
   "source": [
    "#create model\n",
    "\n",
    "#recipe \n",
    "heart_disease_recipe <- recipe(Presence_of_Heart_Disease ~ Age + serum_cholestorol + chest_pain_type + resting_blood_pressure + maximum_heart_rate, data = heart_disease_train ) %>%\n",
    "    step_scale(all_predictors()) %>%\n",
    "    step_center(all_predictors()) \n",
    "heart_disease_scaled <- heart_disease_recipe %>%\n",
    "        prep() %>%\n",
    "        bake(heart_disease_train) \n",
    "\n",
    "#model\n",
    "\n",
    "knn_best_model <- nearest_neighbor(weight_func = \"rectangular\", neighbors = best_k_value) %>%\n",
    "    set_engine(\"kknn\")%>%\n",
    "    set_mode(\"classification\") \n",
    "\n",
    "#fit data \n",
    "heart_disease_fit <- workflow() %>%\n",
    "    add_recipe(heart_disease_recipe) %>%\n",
    "    add_model(knn_best_model) %>%\n",
    "    fit(heart_disease_train)\n",
    "\n",
    "\n",
    "#Evalute accuracy\n",
    "heart_disease_testing_model <- heart_disease_fit %>%\n",
    "    predict(heart_disease_train) %>%\n",
    "    bind_cols(heart_disease_train) %>%\n",
    "    metrics(truth = Presence_of_Heart_Disease, estimate = .pred_class) %>%\n",
    "    filter(.metric == \"accuracy\")\n",
    "\n",
    "heart_disease_testing_model"
   ]
  },
  {
   "cell_type": "code",
   "execution_count": 127,
   "metadata": {},
   "outputs": [
    {
     "data": {
      "text/html": [
       "81.7094017094017"
      ],
      "text/latex": [
       "81.7094017094017"
      ],
      "text/markdown": [
       "81.7094017094017"
      ],
      "text/plain": [
       "[1] 81.7094"
      ]
     },
     "metadata": {},
     "output_type": "display_data"
    }
   ],
   "source": [
    "#accuracy of model\n",
    "\n",
    "percent_accuracy <- heart_disease_testing_model%>%\n",
    "    pull(.estimate)*100\n",
    "percent_accuracy"
   ]
  },
  {
   "cell_type": "code",
   "execution_count": 107,
   "metadata": {},
   "outputs": [
    {
     "data": {
      "image/png": "[encoded data removed]",
      "text/plain": [
       "plot without title"
      ]
     },
     "metadata": {
      "image/png": {
       "height": 480,
       "width": 480
      }
     },
     "output_type": "display_data"
    }
   ],
   "source": [
    "options(repr.plot.width = 8, repr.plot.height = 8)\n",
    "\n",
    "k_value_plot <- Heart_disease_results %>%\n",
    "ggplot(aes(x=neighbors, y=mean)) +\n",
    "geom_point()+\n",
    "geom_line()+\n",
    "labs(x=\"Number of Neighbors (K Value)\", y=\"Mean Accuracy of Model\")+\n",
    "ggtitle(\"Mean Accuracy for K Values from 1 to 30\")+\n",
    "theme(text=element_text(size=12))\n",
    "k_value_plot"
   ]
  },
  {
   "cell_type": "markdown",
   "metadata": {},
   "source": [
    "**Methods:**\n",
    "\n",
    "We will be using classification for this data analysis. We have already standardized the data by centering and scaling it. Next we will create the K-nearest neighbour model specification, then we will create a new recipe that centres and scales the predictors, using all predictors. We will combine this with the first recipe in a workflow and fit it to the dataset. \n",
    "We will then perform a cross-validation on the training data, create a workflow analysis with our recipe and model specification, collect metrics from the workflow analysis, and plot the k vs the accuracy to find the best value of k to maximize accuracy. \n",
    "Then we will build our final model with the predetermined best value for k, pass the model specification and the training data set to the fit() function, use our final model to predict on the test dataset, and report the confusion matrix.\n",
    "\n",
    "We are using the columns Age, Chest pain type, Serum Cholesterol, Resting blood pressure, and POHD. \n",
    "\n",
    "Histograms are used to visualize our data. These graphs show the relationship between our predictors and presence of heart disease. This lets us clearly see how each predictor impacts risk of heart disease. The predictor values have been scaled to ensure that all observations will be on a comparable scale. The plots show that age, cholesterol, and heart rate are good predictors.\n"
   ]
  },
  {
   "cell_type": "markdown",
   "metadata": {},
   "source": [
    "**Expected Outcomes and Significance:**\n",
    "\n",
    "We expect to find out how well our predictors can determine whether or not an individual has heart disease. Our findings could help determine what factors correlate to higher risk of heart disease, allowing for earlier prevention and treatment for factors that increase risk of heart disease. This could lead us to question how big of a role genetics plays in the development of heart disease as well as how other factors, such as drug use and obesity could impact risk of developing heart disease.\n"
   ]
  }
 ],
 "metadata": {
  "kernelspec": {
   "display_name": "R",
   "language": "R",
   "name": "ir"
  },
  "language_info": {
   "codemirror_mode": "r",
   "file_extension": ".r",
   "mimetype": "text/x-r-source",
   "name": "R",
   "pygments_lexer": "r",
   "version": "4.0.0"
  }
 },
 "nbformat": 4,
 "nbformat_minor": 4
}
