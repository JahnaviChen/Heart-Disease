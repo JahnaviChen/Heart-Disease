{
 "cells": [
  {
   "cell_type": "markdown",
   "metadata": {},
   "source": [
    "## The Presence of Heart Disease"
   ]
  },
  {
   "cell_type": "markdown",
   "metadata": {},
   "source": [
    "**Introduction:** \n",
    "\n",
    "\"Heart disease” refers to several types of heart conditions that can affect the operations of the heart muscle. These can include; blood vessel disease, coronary artery disease, Heart rhythm problems, congenital heart defects, heart valve disease, disease of the heart muscle and heart infection. The most common of these is coronary artery disease, which affects the blood flow to the heart that can result in heart attacks and heart failure. Heart disease is a leading cause of death for men, women or most racial and ethnics groups around the world. One person dies every 36 seconds in the USA from a cardiovascular disease. Risk of heart disease can be influenced by many factors including, age, high blood pressure, and high blood cholesterol levels. Growing older increases your risk of damaged and narrowed arteries and a weakened or thickened heart muscle, therefore, individuals older in age are more likely to have heart disease. High blood cholesterol can increase the risk of plaque formation and atherosclerosis and in turn increase the likelihood of heart disease in an individual. Moreover, uncontrolled high blood pressure can result in hardening and thickening of your arteries, narrowing the vessels through which blood flows, increasing an individual's likelihood of having heart disease. Additionally, important symptoms to notice in individuals who have heart disease are the type of chest pain they are having, as angina is chest pain or discomfort caused when your heart muscle doesn't get enough oxygen-rich blood(feels like pressure or squeezing in your chest) and is a major symptom of heart disease. Furthermore, angina chest pain along with irregular heartbeats in an individual can strongly indicate that they might have heart disease. \n",
    "\n",
    "Due to age, high blood pressure, high cholesterol being major risk factors of heart disease and the type of chest pain along with irregular heart beats being an important symptom of heart disease we decided that these factors would best predict the presence of heart disease in an individual. Our question is as follows:\n",
    "\n",
    "**Can we use the age, blood pressure, and cholesterol levels, type of chest pain and heart rate of an individual to predict whether or not they have heart disease?**\n",
    " \n",
    "This dataset shows information about several individuals that could contribute to heart disease, like blood pressure, chest pain, age, sex, blood sugar, heart rate, e.t.c, and whether or not they have heart disease. The goal of this database is to determine the presence of heart disease in a patient. This goal is represented by the POHD field, which refers to the presence of heart disease in an individual. It is an integer valued from 0 (no presence) to 4. Experiments with this database have focused on distinguishing presence of heart disease (a value from 1 through 4) from absence (0). In this database, sex is represented by integer values, with 0 representing female and 1 representing male. The serum_cholestoral field represents serum cholesterol in mg/dl. The chest_pain_type field is represented by integer values ranging from 1-4. A value of 1 indicates typical angina, 2 is atypical angina, 3 is non-anginal pain, and 4 is asymptomatic. \n"
   ]
  },
  {
   "cell_type": "markdown",
   "metadata": {},
   "source": [
    "***Load all libraries needed for data analysis**\n",
    "\n",
    "It is important that you load all the libraries below inorder to ensure that all of the functions needed to preform the data analysis for heart disease are loaded into tidyverse. "
   ]
  },
  {
   "cell_type": "code",
   "execution_count": 1,
   "metadata": {},
   "outputs": [
    {
     "name": "stderr",
     "output_type": "stream",
     "text": [
      "Loading required package: pacman\n",
      "\n"
     ]
    }
   ],
   "source": [
    " if (!require(\"pacman\")) install.packages(\"pacman\")\n",
    "pacman::p_load(knitr, captioner, bundesligR, stringr)"
   ]
  },
  {
   "cell_type": "code",
   "execution_count": 2,
   "metadata": {},
   "outputs": [
    {
     "name": "stderr",
     "output_type": "stream",
     "text": [
      "── \u001b[1mAttaching packages\u001b[22m ─────────────────────────────────────── tidyverse 1.3.0 ──\n",
      "\n",
      "\u001b[32m✔\u001b[39m \u001b[34mggplot2\u001b[39m 3.3.2     \u001b[32m✔\u001b[39m \u001b[34mpurrr  \u001b[39m 0.3.4\n",
      "\u001b[32m✔\u001b[39m \u001b[34mtibble \u001b[39m 3.0.3     \u001b[32m✔\u001b[39m \u001b[34mdplyr  \u001b[39m 1.0.2\n",
      "\u001b[32m✔\u001b[39m \u001b[34mtidyr  \u001b[39m 1.1.2     \u001b[32m✔\u001b[39m \u001b[34mforcats\u001b[39m 0.5.0\n",
      "\u001b[32m✔\u001b[39m \u001b[34mreadr  \u001b[39m 1.3.1     \n",
      "\n",
      "Warning message:\n",
      "“package ‘ggplot2’ was built under R version 4.0.1”\n",
      "Warning message:\n",
      "“package ‘tibble’ was built under R version 4.0.2”\n",
      "Warning message:\n",
      "“package ‘tidyr’ was built under R version 4.0.2”\n",
      "Warning message:\n",
      "“package ‘dplyr’ was built under R version 4.0.2”\n",
      "── \u001b[1mConflicts\u001b[22m ────────────────────────────────────────── tidyverse_conflicts() ──\n",
      "\u001b[31m✖\u001b[39m \u001b[34mdplyr\u001b[39m::\u001b[32mfilter()\u001b[39m masks \u001b[34mstats\u001b[39m::filter()\n",
      "\u001b[31m✖\u001b[39m \u001b[34mdplyr\u001b[39m::\u001b[32mlag()\u001b[39m    masks \u001b[34mstats\u001b[39m::lag()\n",
      "\n",
      "Warning message:\n",
      "“package ‘tidymodels’ was built under R version 4.0.2”\n",
      "── \u001b[1mAttaching packages\u001b[22m ────────────────────────────────────── tidymodels 0.1.1 ──\n",
      "\n",
      "\u001b[32m✔\u001b[39m \u001b[34mbroom    \u001b[39m 0.7.0      \u001b[32m✔\u001b[39m \u001b[34mrecipes  \u001b[39m 0.1.13\n",
      "\u001b[32m✔\u001b[39m \u001b[34mdials    \u001b[39m 0.0.9      \u001b[32m✔\u001b[39m \u001b[34mrsample  \u001b[39m 0.0.7 \n",
      "\u001b[32m✔\u001b[39m \u001b[34minfer    \u001b[39m 0.5.4      \u001b[32m✔\u001b[39m \u001b[34mtune     \u001b[39m 0.1.1 \n",
      "\u001b[32m✔\u001b[39m \u001b[34mmodeldata\u001b[39m 0.0.2      \u001b[32m✔\u001b[39m \u001b[34mworkflows\u001b[39m 0.2.0 \n",
      "\u001b[32m✔\u001b[39m \u001b[34mparsnip  \u001b[39m 0.1.3      \u001b[32m✔\u001b[39m \u001b[34myardstick\u001b[39m 0.0.7 \n",
      "\n",
      "Warning message:\n",
      "“package ‘broom’ was built under R version 4.0.2”\n",
      "Warning message:\n",
      "“package ‘dials’ was built under R version 4.0.2”\n",
      "Warning message:\n",
      "“package ‘infer’ was built under R version 4.0.3”\n",
      "Warning message:\n",
      "“package ‘modeldata’ was built under R version 4.0.1”\n",
      "Warning message:\n",
      "“package ‘parsnip’ was built under R version 4.0.2”\n",
      "Warning message:\n",
      "“package ‘recipes’ was built under R version 4.0.1”\n",
      "Warning message:\n",
      "“package ‘tune’ was built under R version 4.0.2”\n",
      "Warning message:\n",
      "“package ‘workflows’ was built under R version 4.0.2”\n",
      "Warning message:\n",
      "“package ‘yardstick’ was built under R version 4.0.2”\n",
      "── \u001b[1mConflicts\u001b[22m ───────────────────────────────────────── tidymodels_conflicts() ──\n",
      "\u001b[31m✖\u001b[39m \u001b[34mrecipes\u001b[39m::\u001b[32mcheck_class()\u001b[39m masks \u001b[34mcaptioner\u001b[39m::check_class()\n",
      "\u001b[31m✖\u001b[39m \u001b[34mscales\u001b[39m::\u001b[32mdiscard()\u001b[39m      masks \u001b[34mpurrr\u001b[39m::discard()\n",
      "\u001b[31m✖\u001b[39m \u001b[34mdplyr\u001b[39m::\u001b[32mfilter()\u001b[39m        masks \u001b[34mstats\u001b[39m::filter()\n",
      "\u001b[31m✖\u001b[39m \u001b[34mrecipes\u001b[39m::\u001b[32mfixed()\u001b[39m       masks \u001b[34mstringr\u001b[39m::fixed()\n",
      "\u001b[31m✖\u001b[39m \u001b[34mdplyr\u001b[39m::\u001b[32mlag()\u001b[39m           masks \u001b[34mstats\u001b[39m::lag()\n",
      "\u001b[31m✖\u001b[39m \u001b[34myardstick\u001b[39m::\u001b[32mspec()\u001b[39m      masks \u001b[34mreadr\u001b[39m::spec()\n",
      "\u001b[31m✖\u001b[39m \u001b[34mrecipes\u001b[39m::\u001b[32mstep()\u001b[39m        masks \u001b[34mstats\u001b[39m::step()\n",
      "\n",
      "\n",
      "Attaching package: ‘testthat’\n",
      "\n",
      "\n",
      "The following object is masked from ‘package:dplyr’:\n",
      "\n",
      "    matches\n",
      "\n",
      "\n",
      "The following object is masked from ‘package:purrr’:\n",
      "\n",
      "    is_null\n",
      "\n",
      "\n",
      "The following object is masked from ‘package:tidyr’:\n",
      "\n",
      "    matches\n",
      "\n",
      "\n",
      "Warning message:\n",
      "“package ‘cowplot’ was built under R version 4.0.3”\n",
      "Registered S3 method overwritten by 'GGally':\n",
      "  method from   \n",
      "  +.gg   ggplot2\n",
      "\n"
     ]
    }
   ],
   "source": [
    "#load_libraries\n",
    "\n",
    "library(tidyverse)\n",
    "library(tidymodels)\n",
    "library(repr)\n",
    "library(readxl)\n",
    "library(testthat)\n",
    "library(digest)\n",
    "library(cowplot)\n",
    "library(GGally)\n",
    "library(captioner)\n",
    "\n",
    "\n",
    "options(repr.matrix.max.rows = 6)"
   ]
  },
  {
   "cell_type": "code",
   "execution_count": 60,
   "metadata": {},
   "outputs": [],
   "source": [
    "figure_nums <- captioner(prefix = \"Figure\")\n",
    "\n",
    "figure_1_title <- figure_nums(\"heart_disease_data1\", \"Heart Disease Data\")\n",
    "\n",
    "figure_2_title <- figure_nums(\"heart_disease_data2\", 'Heart Disease Data Cleaned and Wrangled')\n",
    "\n",
    "figure_3_title <- figure_nums(\"heart_disease_train\", \"Heart Disease Training Data\")\n",
    "\n",
    "figure_4_title <- figure_nums(\"summerized_POHD\", \"Summarized Values of Heart Disease\")\n",
    "\n",
    "figure_5_title <- figure_nums(\"mean_variables\", \"Mean of Each Variable Used in Classification\")\n",
    "\n",
    "figure_6_title <- figure_nums(\"heart_disease_scaled\", \"Scaled Heart Disease Data\")\n",
    "\n",
    "figure_7_title <- figure_nums(\"Heart_disease_predictions\", \"possible k vlaues and thier corresponding data\")\n",
    "\n",
    "figure_8_title <- figure_nums(\"best_k_value\", \"K value with the Highest Accuracy\")\n",
    "\n",
    "figure_9_title <- figure_nums(\"mean_accuracy_best_k\", \"accuracy of best k value\")\n",
    "\n",
    "figure_10_title <- figure_nums(\"heart_disease_fit\", \"heart Disease Workflow\")\n",
    "\n",
    "figure_11_title <- figure_nums(\"percent_accuracy\", \"accuracy of model\")\n",
    "\n",
    "figure_12_title <- figure_nums(\"heart_conf_mat\", \"Configuration Matrix of Model\")\n",
    "\n",
    "figure_13_title <- figure_nums(\"plot_grid(graphN, graphP)\", \"Visualization of Model\")"
   ]
  },
  {
   "cell_type": "markdown",
   "metadata": {},
   "source": [
    "**1) Load data for analysis**\n",
    "\n",
    "Below we have read in all the datasets available to us, using the same source of collecting this information, we then combined them together creating a larger data set with more data to use in our analysis. In each data set we converted the NA's in each column to question marks, to ensure that our data is usable and that our analysis does not lead to major errors. Additionally we created informative and readable column names to be able to determine what each comlumn represents and which column should be kept for our data analysis. "
   ]
  },
  {
   "cell_type": "code",
   "execution_count": 20,
   "metadata": {},
   "outputs": [
    {
     "name": "stderr",
     "output_type": "stream",
     "text": [
      "Parsed with column specification:\n",
      "cols(\n",
      "  X1 = \u001b[32mcol_double()\u001b[39m,\n",
      "  X2 = \u001b[32mcol_double()\u001b[39m,\n",
      "  X3 = \u001b[32mcol_double()\u001b[39m,\n",
      "  X4 = \u001b[32mcol_double()\u001b[39m,\n",
      "  X5 = \u001b[32mcol_double()\u001b[39m,\n",
      "  X6 = \u001b[32mcol_double()\u001b[39m,\n",
      "  X7 = \u001b[32mcol_double()\u001b[39m,\n",
      "  X8 = \u001b[32mcol_double()\u001b[39m,\n",
      "  X9 = \u001b[32mcol_double()\u001b[39m,\n",
      "  X10 = \u001b[32mcol_double()\u001b[39m,\n",
      "  X11 = \u001b[32mcol_double()\u001b[39m,\n",
      "  X12 = \u001b[32mcol_double()\u001b[39m,\n",
      "  X13 = \u001b[32mcol_double()\u001b[39m,\n",
      "  X14 = \u001b[32mcol_double()\u001b[39m\n",
      ")\n",
      "\n",
      "Parsed with column specification:\n",
      "cols(\n",
      "  X1 = \u001b[32mcol_double()\u001b[39m,\n",
      "  X2 = \u001b[32mcol_double()\u001b[39m,\n",
      "  X3 = \u001b[32mcol_double()\u001b[39m,\n",
      "  X4 = \u001b[32mcol_double()\u001b[39m,\n",
      "  X5 = \u001b[32mcol_double()\u001b[39m,\n",
      "  X6 = \u001b[32mcol_double()\u001b[39m,\n",
      "  X7 = \u001b[32mcol_double()\u001b[39m,\n",
      "  X8 = \u001b[32mcol_double()\u001b[39m,\n",
      "  X9 = \u001b[32mcol_double()\u001b[39m,\n",
      "  X10 = \u001b[32mcol_double()\u001b[39m,\n",
      "  X11 = \u001b[32mcol_double()\u001b[39m,\n",
      "  X12 = \u001b[32mcol_double()\u001b[39m,\n",
      "  X13 = \u001b[32mcol_double()\u001b[39m,\n",
      "  X14 = \u001b[32mcol_double()\u001b[39m\n",
      ")\n",
      "\n",
      "Parsed with column specification:\n",
      "cols(\n",
      "  X1 = \u001b[32mcol_double()\u001b[39m,\n",
      "  X2 = \u001b[32mcol_double()\u001b[39m,\n",
      "  X3 = \u001b[32mcol_double()\u001b[39m,\n",
      "  X4 = \u001b[32mcol_double()\u001b[39m,\n",
      "  X5 = \u001b[32mcol_double()\u001b[39m,\n",
      "  X6 = \u001b[32mcol_double()\u001b[39m,\n",
      "  X7 = \u001b[32mcol_double()\u001b[39m,\n",
      "  X8 = \u001b[32mcol_double()\u001b[39m,\n",
      "  X9 = \u001b[32mcol_double()\u001b[39m,\n",
      "  X10 = \u001b[32mcol_double()\u001b[39m,\n",
      "  X11 = \u001b[32mcol_double()\u001b[39m,\n",
      "  X12 = \u001b[32mcol_double()\u001b[39m,\n",
      "  X13 = \u001b[32mcol_double()\u001b[39m,\n",
      "  X14 = \u001b[32mcol_double()\u001b[39m\n",
      ")\n",
      "\n",
      "Parsed with column specification:\n",
      "cols(\n",
      "  X1 = \u001b[32mcol_double()\u001b[39m,\n",
      "  X2 = \u001b[32mcol_double()\u001b[39m,\n",
      "  X3 = \u001b[32mcol_double()\u001b[39m,\n",
      "  X4 = \u001b[32mcol_double()\u001b[39m,\n",
      "  X5 = \u001b[32mcol_double()\u001b[39m,\n",
      "  X6 = \u001b[32mcol_double()\u001b[39m,\n",
      "  X7 = \u001b[32mcol_double()\u001b[39m,\n",
      "  X8 = \u001b[32mcol_double()\u001b[39m,\n",
      "  X9 = \u001b[32mcol_double()\u001b[39m,\n",
      "  X10 = \u001b[32mcol_double()\u001b[39m,\n",
      "  X11 = \u001b[32mcol_double()\u001b[39m,\n",
      "  X12 = \u001b[32mcol_double()\u001b[39m,\n",
      "  X13 = \u001b[32mcol_double()\u001b[39m,\n",
      "  X14 = \u001b[32mcol_double()\u001b[39m\n",
      ")\n",
      "\n",
      "Joining, by = c(\"X1\", \"X2\", \"X3\", \"X4\", \"X5\", \"X6\", \"X7\", \"X8\", \"X9\", \"X10\", \"X11\", \"X12\", \"X13\", \"X14\")\n",
      "\n",
      "Joining, by = c(\"X1\", \"X2\", \"X3\", \"X4\", \"X5\", \"X6\", \"X7\", \"X8\", \"X9\", \"X10\", \"X11\", \"X12\", \"X13\", \"X14\")\n",
      "\n",
      "Joining, by = c(\"X1\", \"X2\", \"X3\", \"X4\", \"X5\", \"X6\", \"X7\", \"X8\", \"X9\", \"X10\", \"X11\", \"X12\", \"X13\", \"X14\")\n",
      "\n"
     ]
    },
    {
     "data": {
      "text/html": [
       "<span style=white-space:pre-wrap>'Figure  1: Heart Disease Data'</span>"
      ],
      "text/latex": [
       "'Figure  1: Heart Disease Data'"
      ],
      "text/markdown": [
       "<span style=white-space:pre-wrap>'Figure  1: Heart Disease Data'</span>"
      ],
      "text/plain": [
       "[1] \"Figure  1: Heart Disease Data\""
      ]
     },
     "metadata": {},
     "output_type": "display_data"
    },
    {
     "data": {
      "text/html": [
       "<table>\n",
       "<caption>A spec_tbl_df: 920 × 14</caption>\n",
       "<thead>\n",
       "\t<tr><th scope=col>Age</th><th scope=col>Sex</th><th scope=col>chest_pain_type</th><th scope=col>resting_blood_pressure</th><th scope=col>serum_cholestorol</th><th scope=col>fasting_blood_sugar</th><th scope=col>resting_electrocardiographic_results</th><th scope=col>maximum_heart_rate</th><th scope=col>exercise_induced_angina</th><th scope=col>oldpeak</th><th scope=col>slope</th><th scope=col>ca</th><th scope=col>thal</th><th scope=col>POHD</th></tr>\n",
       "\t<tr><th scope=col>&lt;dbl&gt;</th><th scope=col>&lt;dbl&gt;</th><th scope=col>&lt;dbl&gt;</th><th scope=col>&lt;dbl&gt;</th><th scope=col>&lt;dbl&gt;</th><th scope=col>&lt;dbl&gt;</th><th scope=col>&lt;dbl&gt;</th><th scope=col>&lt;dbl&gt;</th><th scope=col>&lt;dbl&gt;</th><th scope=col>&lt;dbl&gt;</th><th scope=col>&lt;dbl&gt;</th><th scope=col>&lt;dbl&gt;</th><th scope=col>&lt;dbl&gt;</th><th scope=col>&lt;dbl&gt;</th></tr>\n",
       "</thead>\n",
       "<tbody>\n",
       "\t<tr><td>63</td><td>1</td><td>1</td><td>145</td><td>233</td><td>1</td><td>2</td><td>150</td><td>0</td><td>2.3</td><td>3</td><td>0</td><td>6</td><td>0</td></tr>\n",
       "\t<tr><td>67</td><td>1</td><td>4</td><td>160</td><td>286</td><td>0</td><td>2</td><td>108</td><td>1</td><td>1.5</td><td>2</td><td>3</td><td>3</td><td>2</td></tr>\n",
       "\t<tr><td>67</td><td>1</td><td>4</td><td>120</td><td>229</td><td>0</td><td>2</td><td>129</td><td>1</td><td>2.6</td><td>2</td><td>2</td><td>7</td><td>1</td></tr>\n",
       "\t<tr><td>⋮</td><td>⋮</td><td>⋮</td><td>⋮</td><td>⋮</td><td>⋮</td><td>⋮</td><td>⋮</td><td>⋮</td><td>⋮</td><td>⋮</td><td>⋮</td><td>⋮</td><td>⋮</td></tr>\n",
       "\t<tr><td>55</td><td>1</td><td>4</td><td>122</td><td>223</td><td>1</td><td>1</td><td>100</td><td> 0</td><td> 0</td><td>NA</td><td>NA</td><td> 6</td><td>2</td></tr>\n",
       "\t<tr><td>58</td><td>1</td><td>4</td><td> NA</td><td>385</td><td>1</td><td>2</td><td> NA</td><td>NA</td><td>NA</td><td>NA</td><td>NA</td><td>NA</td><td>0</td></tr>\n",
       "\t<tr><td>62</td><td>1</td><td>2</td><td>120</td><td>254</td><td>0</td><td>2</td><td> 93</td><td> 1</td><td> 0</td><td>NA</td><td>NA</td><td>NA</td><td>1</td></tr>\n",
       "</tbody>\n",
       "</table>\n"
      ],
      "text/latex": [
       "A spec\\_tbl\\_df: 920 × 14\n",
       "\\begin{tabular}{llllllllllllll}\n",
       " Age & Sex & chest\\_pain\\_type & resting\\_blood\\_pressure & serum\\_cholestorol & fasting\\_blood\\_sugar & resting\\_electrocardiographic\\_results & maximum\\_heart\\_rate & exercise\\_induced\\_angina & oldpeak & slope & ca & thal & POHD\\\\\n",
       " <dbl> & <dbl> & <dbl> & <dbl> & <dbl> & <dbl> & <dbl> & <dbl> & <dbl> & <dbl> & <dbl> & <dbl> & <dbl> & <dbl>\\\\\n",
       "\\hline\n",
       "\t 63 & 1 & 1 & 145 & 233 & 1 & 2 & 150 & 0 & 2.3 & 3 & 0 & 6 & 0\\\\\n",
       "\t 67 & 1 & 4 & 160 & 286 & 0 & 2 & 108 & 1 & 1.5 & 2 & 3 & 3 & 2\\\\\n",
       "\t 67 & 1 & 4 & 120 & 229 & 0 & 2 & 129 & 1 & 2.6 & 2 & 2 & 7 & 1\\\\\n",
       "\t ⋮ & ⋮ & ⋮ & ⋮ & ⋮ & ⋮ & ⋮ & ⋮ & ⋮ & ⋮ & ⋮ & ⋮ & ⋮ & ⋮\\\\\n",
       "\t 55 & 1 & 4 & 122 & 223 & 1 & 1 & 100 &  0 &  0 & NA & NA &  6 & 2\\\\\n",
       "\t 58 & 1 & 4 &  NA & 385 & 1 & 2 &  NA & NA & NA & NA & NA & NA & 0\\\\\n",
       "\t 62 & 1 & 2 & 120 & 254 & 0 & 2 &  93 &  1 &  0 & NA & NA & NA & 1\\\\\n",
       "\\end{tabular}\n"
      ],
      "text/markdown": [
       "\n",
       "A spec_tbl_df: 920 × 14\n",
       "\n",
       "| Age &lt;dbl&gt; | Sex &lt;dbl&gt; | chest_pain_type &lt;dbl&gt; | resting_blood_pressure &lt;dbl&gt; | serum_cholestorol &lt;dbl&gt; | fasting_blood_sugar &lt;dbl&gt; | resting_electrocardiographic_results &lt;dbl&gt; | maximum_heart_rate &lt;dbl&gt; | exercise_induced_angina &lt;dbl&gt; | oldpeak &lt;dbl&gt; | slope &lt;dbl&gt; | ca &lt;dbl&gt; | thal &lt;dbl&gt; | POHD &lt;dbl&gt; |\n",
       "|---|---|---|---|---|---|---|---|---|---|---|---|---|---|\n",
       "| 63 | 1 | 1 | 145 | 233 | 1 | 2 | 150 | 0 | 2.3 | 3 | 0 | 6 | 0 |\n",
       "| 67 | 1 | 4 | 160 | 286 | 0 | 2 | 108 | 1 | 1.5 | 2 | 3 | 3 | 2 |\n",
       "| 67 | 1 | 4 | 120 | 229 | 0 | 2 | 129 | 1 | 2.6 | 2 | 2 | 7 | 1 |\n",
       "| ⋮ | ⋮ | ⋮ | ⋮ | ⋮ | ⋮ | ⋮ | ⋮ | ⋮ | ⋮ | ⋮ | ⋮ | ⋮ | ⋮ |\n",
       "| 55 | 1 | 4 | 122 | 223 | 1 | 1 | 100 |  0 |  0 | NA | NA |  6 | 2 |\n",
       "| 58 | 1 | 4 |  NA | 385 | 1 | 2 |  NA | NA | NA | NA | NA | NA | 0 |\n",
       "| 62 | 1 | 2 | 120 | 254 | 0 | 2 |  93 |  1 |  0 | NA | NA | NA | 1 |\n",
       "\n"
      ],
      "text/plain": [
       "    Age Sex chest_pain_type resting_blood_pressure serum_cholestorol\n",
       "1   63  1   1               145                    233              \n",
       "2   67  1   4               160                    286              \n",
       "3   67  1   4               120                    229              \n",
       "⋮   ⋮   ⋮   ⋮               ⋮                      ⋮                \n",
       "918 55  1   4               122                    223              \n",
       "919 58  1   4                NA                    385              \n",
       "920 62  1   2               120                    254              \n",
       "    fasting_blood_sugar resting_electrocardiographic_results maximum_heart_rate\n",
       "1   1                   2                                    150               \n",
       "2   0                   2                                    108               \n",
       "3   0                   2                                    129               \n",
       "⋮   ⋮                   ⋮                                    ⋮                 \n",
       "918 1                   1                                    100               \n",
       "919 1                   2                                     NA               \n",
       "920 0                   2                                     93               \n",
       "    exercise_induced_angina oldpeak slope ca thal POHD\n",
       "1   0                       2.3     3     0  6    0   \n",
       "2   1                       1.5     2     3  3    2   \n",
       "3   1                       2.6     2     2  7    1   \n",
       "⋮   ⋮                       ⋮       ⋮     ⋮  ⋮    ⋮   \n",
       "918  0                       0      NA    NA  6   2   \n",
       "919 NA                      NA      NA    NA NA   0   \n",
       "920  1                       0      NA    NA NA   1   "
      ]
     },
     "metadata": {},
     "output_type": "display_data"
    }
   ],
   "source": [
    "set.seed(1234)\n",
    "#We have read in and combined all datasets and tidied the data. \n",
    "#The NAs in the datasets are replaced with question marks.\n",
    "\n",
    "cleveland_url <- \"https://archive.ics.uci.edu/ml/machine-learning-databases/heart-disease/processed.cleveland.data\"\n",
    "hungary_url <- \"https://archive.ics.uci.edu/ml/machine-learning-databases/heart-disease/processed.hungarian.data\"\n",
    "switzerland_url <- \"https://archive.ics.uci.edu/ml/machine-learning-databases/heart-disease/processed.switzerland.data\"\n",
    "va_url <- \"https://archive.ics.uci.edu/ml/machine-learning-databases/heart-disease/processed.va.data\"\n",
    "\n",
    "cleveland_data <- read_csv(cleveland_url, col_names = FALSE, na = \"?\")\n",
    "hungary_data <- read_csv(hungary_url, col_names = FALSE, na = \"?\")\n",
    "switzerland_data <- read_csv(switzerland_url, col_names = FALSE, na = \"?\")\n",
    "va_data <- read_csv(va_url, col_names = FALSE, na = \"?\")\n",
    "\n",
    "heart_disease_data1 <- full_join(cleveland_data, hungary_data) %>%\n",
    "    full_join(switzerland_data) %>%\n",
    "    full_join(va_data)\n",
    "\n",
    "colnames(heart_disease_data1) <- c(\"Age\", \"Sex\", \"chest_pain_type\", \"resting_blood_pressure\", \"serum_cholestorol\", \"fasting_blood_sugar\", \"resting_electrocardiographic_results\",\n",
    "                \"maximum_heart_rate\" , \"exercise_induced_angina\" , \"oldpeak\" , \"slope\" , \"ca\" , \"thal\" , \"POHD\")\n",
    "\n",
    "figure_1_title\n",
    "heart_disease_data1"
   ]
  },
  {
   "cell_type": "markdown",
   "metadata": {},
   "source": [
    "**2) Clean and wrangle data into a tidy format that can be used for the analysis**\n",
    "\n",
    "In our data set, the presence of heart disease column (POHD) has been mutated with the purpose of  distinguishing the presence of heart disease (positive) from lack of heart disease (negative). We then selected the desired columns for our analysis which include; the factors we wish to use for our classification(age, chest pain type, serum cholesterol levels, resting blood pressure, maximum heart rate) along with the column we are trying to predict which is the presence of heart disease. We then remove the NA's in our data in order to clean the data to make it usable for our data analysis."
   ]
  },
  {
   "cell_type": "code",
   "execution_count": 21,
   "metadata": {},
   "outputs": [
    {
     "data": {
      "text/html": [
       "<span style=white-space:pre-wrap>'Figure  2: Heart Disease Data Cleaned and Wrangled'</span>"
      ],
      "text/latex": [
       "'Figure  2: Heart Disease Data Cleaned and Wrangled'"
      ],
      "text/markdown": [
       "<span style=white-space:pre-wrap>'Figure  2: Heart Disease Data Cleaned and Wrangled'</span>"
      ],
      "text/plain": [
       "[1] \"Figure  2: Heart Disease Data Cleaned and Wrangled\""
      ]
     },
     "metadata": {},
     "output_type": "display_data"
    },
    {
     "data": {
      "text/html": [
       "<table>\n",
       "<caption>A tibble: 834 × 6</caption>\n",
       "<thead>\n",
       "\t<tr><th scope=col>Age</th><th scope=col>chest_pain_type</th><th scope=col>serum_cholestorol</th><th scope=col>Presence_of_Heart_Disease</th><th scope=col>resting_blood_pressure</th><th scope=col>maximum_heart_rate</th></tr>\n",
       "\t<tr><th scope=col>&lt;dbl&gt;</th><th scope=col>&lt;dbl&gt;</th><th scope=col>&lt;dbl&gt;</th><th scope=col>&lt;fct&gt;</th><th scope=col>&lt;dbl&gt;</th><th scope=col>&lt;dbl&gt;</th></tr>\n",
       "</thead>\n",
       "<tbody>\n",
       "\t<tr><td>63</td><td>1</td><td>233</td><td>N</td><td>145</td><td>150</td></tr>\n",
       "\t<tr><td>67</td><td>4</td><td>286</td><td>P</td><td>160</td><td>108</td></tr>\n",
       "\t<tr><td>67</td><td>4</td><td>229</td><td>P</td><td>120</td><td>129</td></tr>\n",
       "\t<tr><td>⋮</td><td>⋮</td><td>⋮</td><td>⋮</td><td>⋮</td><td>⋮</td></tr>\n",
       "\t<tr><td>54</td><td>4</td><td>333</td><td>P</td><td>127</td><td>154</td></tr>\n",
       "\t<tr><td>55</td><td>4</td><td>223</td><td>P</td><td>122</td><td>100</td></tr>\n",
       "\t<tr><td>62</td><td>2</td><td>254</td><td>P</td><td>120</td><td> 93</td></tr>\n",
       "</tbody>\n",
       "</table>\n"
      ],
      "text/latex": [
       "A tibble: 834 × 6\n",
       "\\begin{tabular}{llllll}\n",
       " Age & chest\\_pain\\_type & serum\\_cholestorol & Presence\\_of\\_Heart\\_Disease & resting\\_blood\\_pressure & maximum\\_heart\\_rate\\\\\n",
       " <dbl> & <dbl> & <dbl> & <fct> & <dbl> & <dbl>\\\\\n",
       "\\hline\n",
       "\t 63 & 1 & 233 & N & 145 & 150\\\\\n",
       "\t 67 & 4 & 286 & P & 160 & 108\\\\\n",
       "\t 67 & 4 & 229 & P & 120 & 129\\\\\n",
       "\t ⋮ & ⋮ & ⋮ & ⋮ & ⋮ & ⋮\\\\\n",
       "\t 54 & 4 & 333 & P & 127 & 154\\\\\n",
       "\t 55 & 4 & 223 & P & 122 & 100\\\\\n",
       "\t 62 & 2 & 254 & P & 120 &  93\\\\\n",
       "\\end{tabular}\n"
      ],
      "text/markdown": [
       "\n",
       "A tibble: 834 × 6\n",
       "\n",
       "| Age &lt;dbl&gt; | chest_pain_type &lt;dbl&gt; | serum_cholestorol &lt;dbl&gt; | Presence_of_Heart_Disease &lt;fct&gt; | resting_blood_pressure &lt;dbl&gt; | maximum_heart_rate &lt;dbl&gt; |\n",
       "|---|---|---|---|---|---|\n",
       "| 63 | 1 | 233 | N | 145 | 150 |\n",
       "| 67 | 4 | 286 | P | 160 | 108 |\n",
       "| 67 | 4 | 229 | P | 120 | 129 |\n",
       "| ⋮ | ⋮ | ⋮ | ⋮ | ⋮ | ⋮ |\n",
       "| 54 | 4 | 333 | P | 127 | 154 |\n",
       "| 55 | 4 | 223 | P | 122 | 100 |\n",
       "| 62 | 2 | 254 | P | 120 |  93 |\n",
       "\n"
      ],
      "text/plain": [
       "    Age chest_pain_type serum_cholestorol Presence_of_Heart_Disease\n",
       "1   63  1               233               N                        \n",
       "2   67  4               286               P                        \n",
       "3   67  4               229               P                        \n",
       "⋮   ⋮   ⋮               ⋮                 ⋮                        \n",
       "832 54  4               333               P                        \n",
       "833 55  4               223               P                        \n",
       "834 62  2               254               P                        \n",
       "    resting_blood_pressure maximum_heart_rate\n",
       "1   145                    150               \n",
       "2   160                    108               \n",
       "3   120                    129               \n",
       "⋮   ⋮                      ⋮                 \n",
       "832 127                    154               \n",
       "833 122                    100               \n",
       "834 120                     93               "
      ]
     },
     "metadata": {},
     "output_type": "display_data"
    }
   ],
   "source": [
    "set.seed(1234)\n",
    "\n",
    "POHD2 <- mutate(heart_disease_data1, Presence_of_Heart_Disease = ifelse(POHD>0, \"P\", \"N\"))\n",
    "\n",
    "#select for desired columns\n",
    "heart_data <- POHD2 %>%\n",
    "                    select(Age, chest_pain_type, serum_cholestorol, Presence_of_Heart_Disease, resting_blood_pressure, maximum_heart_rate) %>%\n",
    "                    mutate(Presence_of_Heart_Disease = as_factor(Presence_of_Heart_Disease))\n",
    "#remove NAs\n",
    "heart_disease_data2 <- na.omit(heart_data)\n",
    "\n",
    "figure_2_title\n",
    "heart_disease_data2"
   ]
  },
  {
   "cell_type": "markdown",
   "metadata": {},
   "source": [
    "**3) Split data into testing or training data**\n",
    "\n",
    "Below we have set the seed when splitting our data to ensure that it is reproducible. We then split our data into training and testing data to ensure that we can determine how accurate our model is."
   ]
  },
  {
   "cell_type": "code",
   "execution_count": 22,
   "metadata": {},
   "outputs": [
    {
     "data": {
      "text/html": [
       "<span style=white-space:pre-wrap>'Figure  3: Heart Disease Training Data'</span>"
      ],
      "text/latex": [
       "'Figure  3: Heart Disease Training Data'"
      ],
      "text/markdown": [
       "<span style=white-space:pre-wrap>'Figure  3: Heart Disease Training Data'</span>"
      ],
      "text/plain": [
       "[1] \"Figure  3: Heart Disease Training Data\""
      ]
     },
     "metadata": {},
     "output_type": "display_data"
    },
    {
     "data": {
      "text/html": [
       "<table>\n",
       "<caption>A tibble: 585 × 6</caption>\n",
       "<thead>\n",
       "\t<tr><th scope=col>Age</th><th scope=col>chest_pain_type</th><th scope=col>serum_cholestorol</th><th scope=col>Presence_of_Heart_Disease</th><th scope=col>resting_blood_pressure</th><th scope=col>maximum_heart_rate</th></tr>\n",
       "\t<tr><th scope=col>&lt;dbl&gt;</th><th scope=col>&lt;dbl&gt;</th><th scope=col>&lt;dbl&gt;</th><th scope=col>&lt;fct&gt;</th><th scope=col>&lt;dbl&gt;</th><th scope=col>&lt;dbl&gt;</th></tr>\n",
       "</thead>\n",
       "<tbody>\n",
       "\t<tr><td>63</td><td>1</td><td>233</td><td>N</td><td>145</td><td>150</td></tr>\n",
       "\t<tr><td>67</td><td>4</td><td>286</td><td>P</td><td>160</td><td>108</td></tr>\n",
       "\t<tr><td>67</td><td>4</td><td>229</td><td>P</td><td>120</td><td>129</td></tr>\n",
       "\t<tr><td>⋮</td><td>⋮</td><td>⋮</td><td>⋮</td><td>⋮</td><td>⋮</td></tr>\n",
       "\t<tr><td>46</td><td>4</td><td>310</td><td>P</td><td>134</td><td>126</td></tr>\n",
       "\t<tr><td>54</td><td>4</td><td>333</td><td>P</td><td>127</td><td>154</td></tr>\n",
       "\t<tr><td>55</td><td>4</td><td>223</td><td>P</td><td>122</td><td>100</td></tr>\n",
       "</tbody>\n",
       "</table>\n"
      ],
      "text/latex": [
       "A tibble: 585 × 6\n",
       "\\begin{tabular}{llllll}\n",
       " Age & chest\\_pain\\_type & serum\\_cholestorol & Presence\\_of\\_Heart\\_Disease & resting\\_blood\\_pressure & maximum\\_heart\\_rate\\\\\n",
       " <dbl> & <dbl> & <dbl> & <fct> & <dbl> & <dbl>\\\\\n",
       "\\hline\n",
       "\t 63 & 1 & 233 & N & 145 & 150\\\\\n",
       "\t 67 & 4 & 286 & P & 160 & 108\\\\\n",
       "\t 67 & 4 & 229 & P & 120 & 129\\\\\n",
       "\t ⋮ & ⋮ & ⋮ & ⋮ & ⋮ & ⋮\\\\\n",
       "\t 46 & 4 & 310 & P & 134 & 126\\\\\n",
       "\t 54 & 4 & 333 & P & 127 & 154\\\\\n",
       "\t 55 & 4 & 223 & P & 122 & 100\\\\\n",
       "\\end{tabular}\n"
      ],
      "text/markdown": [
       "\n",
       "A tibble: 585 × 6\n",
       "\n",
       "| Age &lt;dbl&gt; | chest_pain_type &lt;dbl&gt; | serum_cholestorol &lt;dbl&gt; | Presence_of_Heart_Disease &lt;fct&gt; | resting_blood_pressure &lt;dbl&gt; | maximum_heart_rate &lt;dbl&gt; |\n",
       "|---|---|---|---|---|---|\n",
       "| 63 | 1 | 233 | N | 145 | 150 |\n",
       "| 67 | 4 | 286 | P | 160 | 108 |\n",
       "| 67 | 4 | 229 | P | 120 | 129 |\n",
       "| ⋮ | ⋮ | ⋮ | ⋮ | ⋮ | ⋮ |\n",
       "| 46 | 4 | 310 | P | 134 | 126 |\n",
       "| 54 | 4 | 333 | P | 127 | 154 |\n",
       "| 55 | 4 | 223 | P | 122 | 100 |\n",
       "\n"
      ],
      "text/plain": [
       "    Age chest_pain_type serum_cholestorol Presence_of_Heart_Disease\n",
       "1   63  1               233               N                        \n",
       "2   67  4               286               P                        \n",
       "3   67  4               229               P                        \n",
       "⋮   ⋮   ⋮               ⋮                 ⋮                        \n",
       "583 46  4               310               P                        \n",
       "584 54  4               333               P                        \n",
       "585 55  4               223               P                        \n",
       "    resting_blood_pressure maximum_heart_rate\n",
       "1   145                    150               \n",
       "2   160                    108               \n",
       "3   120                    129               \n",
       "⋮   ⋮                      ⋮                 \n",
       "583 134                    126               \n",
       "584 127                    154               \n",
       "585 122                    100               "
      ]
     },
     "metadata": {},
     "output_type": "display_data"
    }
   ],
   "source": [
    "set.seed(1234)\n",
    "\n",
    "\n",
    "heart_disease_split <- initial_split(heart_disease_data2, prop = 0.70, strata = Presence_of_Heart_Disease)\n",
    "heart_disease_train <- training(heart_disease_split)\n",
    "heart_disease_test <- testing(heart_disease_split)\n",
    "\n",
    "figure_3_title\n",
    "heart_disease_train"
   ]
  },
  {
   "cell_type": "markdown",
   "metadata": {},
   "source": [
    "**4) Summarize the data into tables that are relevant to our analysis**\n",
    "\n",
    "Below we have summarized our data into two tables. The first table below summarizes the total number of variables corresponding to positive and negative heart disease in our data. The second table summarizes the average of each column that we are using in our data analysis.\n"
   ]
  },
  {
   "cell_type": "code",
   "execution_count": 28,
   "metadata": {},
   "outputs": [
    {
     "name": "stderr",
     "output_type": "stream",
     "text": [
      "`summarise()` ungrouping output (override with `.groups` argument)\n",
      "\n"
     ]
    },
    {
     "data": {
      "text/html": [
       "<span style=white-space:pre-wrap>'Figure  4: Summarized Values of Heart Disease'</span>"
      ],
      "text/latex": [
       "'Figure  4: Summarized Values of Heart Disease'"
      ],
      "text/markdown": [
       "<span style=white-space:pre-wrap>'Figure  4: Summarized Values of Heart Disease'</span>"
      ],
      "text/plain": [
       "[1] \"Figure  4: Summarized Values of Heart Disease\""
      ]
     },
     "metadata": {},
     "output_type": "display_data"
    },
    {
     "data": {
      "text/html": [
       "<table>\n",
       "<caption>A tibble: 2 × 2</caption>\n",
       "<thead>\n",
       "\t<tr><th scope=col>Presence_of_Heart_Disease</th><th scope=col>Number of variable</th></tr>\n",
       "\t<tr><th scope=col>&lt;fct&gt;</th><th scope=col>&lt;int&gt;</th></tr>\n",
       "</thead>\n",
       "<tbody>\n",
       "\t<tr><td>N</td><td>262</td></tr>\n",
       "\t<tr><td>P</td><td>323</td></tr>\n",
       "</tbody>\n",
       "</table>\n"
      ],
      "text/latex": [
       "A tibble: 2 × 2\n",
       "\\begin{tabular}{ll}\n",
       " Presence\\_of\\_Heart\\_Disease & Number of variable\\\\\n",
       " <fct> & <int>\\\\\n",
       "\\hline\n",
       "\t N & 262\\\\\n",
       "\t P & 323\\\\\n",
       "\\end{tabular}\n"
      ],
      "text/markdown": [
       "\n",
       "A tibble: 2 × 2\n",
       "\n",
       "| Presence_of_Heart_Disease &lt;fct&gt; | Number of variable &lt;int&gt; |\n",
       "|---|---|\n",
       "| N | 262 |\n",
       "| P | 323 |\n",
       "\n"
      ],
      "text/plain": [
       "  Presence_of_Heart_Disease Number of variable\n",
       "1 N                         262               \n",
       "2 P                         323               "
      ]
     },
     "metadata": {},
     "output_type": "display_data"
    },
    {
     "data": {
      "text/html": [
       "<span style=white-space:pre-wrap>'Figure  5: Mean of Each Variable Used in Classification'</span>"
      ],
      "text/latex": [
       "'Figure  5: Mean of Each Variable Used in Classification'"
      ],
      "text/markdown": [
       "<span style=white-space:pre-wrap>'Figure  5: Mean of Each Variable Used in Classification'</span>"
      ],
      "text/plain": [
       "[1] \"Figure  5: Mean of Each Variable Used in Classification\""
      ]
     },
     "metadata": {},
     "output_type": "display_data"
    },
    {
     "data": {
      "text/html": [
       "<table>\n",
       "<caption>A tibble: 1 × 5</caption>\n",
       "<thead>\n",
       "\t<tr><th scope=col>Mean Age</th><th scope=col>Mean serum cholestoral</th><th scope=col>Mean Chest Pain Type</th><th scope=col>Mean Resting Blood Pressure</th><th scope=col>Mean maximum heart rate</th></tr>\n",
       "\t<tr><th scope=col>&lt;dbl&gt;</th><th scope=col>&lt;dbl&gt;</th><th scope=col>&lt;dbl&gt;</th><th scope=col>&lt;dbl&gt;</th><th scope=col>&lt;dbl&gt;</th></tr>\n",
       "</thead>\n",
       "<tbody>\n",
       "\t<tr><td>52.78291</td><td>197.2325</td><td>3.261538</td><td>131.3744</td><td>137.9812</td></tr>\n",
       "</tbody>\n",
       "</table>\n"
      ],
      "text/latex": [
       "A tibble: 1 × 5\n",
       "\\begin{tabular}{lllll}\n",
       " Mean Age & Mean serum cholestoral & Mean Chest Pain Type & Mean Resting Blood Pressure & Mean maximum heart rate\\\\\n",
       " <dbl> & <dbl> & <dbl> & <dbl> & <dbl>\\\\\n",
       "\\hline\n",
       "\t 52.78291 & 197.2325 & 3.261538 & 131.3744 & 137.9812\\\\\n",
       "\\end{tabular}\n"
      ],
      "text/markdown": [
       "\n",
       "A tibble: 1 × 5\n",
       "\n",
       "| Mean Age &lt;dbl&gt; | Mean serum cholestoral &lt;dbl&gt; | Mean Chest Pain Type &lt;dbl&gt; | Mean Resting Blood Pressure &lt;dbl&gt; | Mean maximum heart rate &lt;dbl&gt; |\n",
       "|---|---|---|---|---|\n",
       "| 52.78291 | 197.2325 | 3.261538 | 131.3744 | 137.9812 |\n",
       "\n"
      ],
      "text/plain": [
       "  Mean Age Mean serum cholestoral Mean Chest Pain Type\n",
       "1 52.78291 197.2325               3.261538            \n",
       "  Mean Resting Blood Pressure Mean maximum heart rate\n",
       "1 131.3744                    137.9812               "
      ]
     },
     "metadata": {},
     "output_type": "display_data"
    }
   ],
   "source": [
    "#useful Tables \n",
    "set.seed(1234)\n",
    "\n",
    "\n",
    "summerized_POHD <- heart_disease_train %>%\n",
    "    group_by(Presence_of_Heart_Disease) %>%\n",
    "    summarize(\"Number of variable\"= n()) \n",
    "\n",
    "mean_variables <- summarize(heart_disease_train,\n",
    "                           \"Mean Age\" = mean(Age),\n",
    "                           \"Mean serum cholestoral\" = mean(serum_cholestorol),\n",
    "                           \"Mean Chest Pain Type\" = mean(chest_pain_type),\n",
    "                           \"Mean Resting Blood Pressure\" = mean(resting_blood_pressure), \n",
    "                           \"Mean maximum heart rate\" = mean(maximum_heart_rate)) \n",
    "figure_4_title\n",
    "summerized_POHD\n",
    "figure_5_title\n",
    "mean_variables"
   ]
  },
  {
   "cell_type": "markdown",
   "metadata": {},
   "source": [
    "The first table shows the number of rows that correspond to positive and negative POHD values. We can use this summary to see that we have similar numbers of positive and negative values for heart disease presence; therefore, upsampling is not needed. \n",
    "\n",
    "The second table shows the mean values of our predictors, which can be useful in determining the average of each factor in the population. This can allow you to make the inference that if an individual's observations greatly differ from the averages of the population that they may be at a greater risk of heart disease. "
   ]
  },
  {
   "cell_type": "markdown",
   "metadata": {},
   "source": [
    "**5) Created a recipe and scaled our data**\n",
    "\n",
    "Below we created a recipe for our data and scaled our predictors to make sure that they were of equal importance when performing our data analysis. We then applied this recipe to our data set."
   ]
  },
  {
   "cell_type": "code",
   "execution_count": 31,
   "metadata": {},
   "outputs": [
    {
     "data": {
      "text/html": [
       "<span style=white-space:pre-wrap>'Figure  6: Scaled Heart Disease Data'</span>"
      ],
      "text/latex": [
       "'Figure  6: Scaled Heart Disease Data'"
      ],
      "text/markdown": [
       "<span style=white-space:pre-wrap>'Figure  6: Scaled Heart Disease Data'</span>"
      ],
      "text/plain": [
       "[1] \"Figure  6: Scaled Heart Disease Data\""
      ]
     },
     "metadata": {},
     "output_type": "display_data"
    },
    {
     "data": {
      "text/html": [
       "<table>\n",
       "<caption>A tibble: 585 × 6</caption>\n",
       "<thead>\n",
       "\t<tr><th scope=col>Age</th><th scope=col>serum_cholestorol</th><th scope=col>chest_pain_type</th><th scope=col>resting_blood_pressure</th><th scope=col>maximum_heart_rate</th><th scope=col>Presence_of_Heart_Disease</th></tr>\n",
       "\t<tr><th scope=col>&lt;dbl&gt;</th><th scope=col>&lt;dbl&gt;</th><th scope=col>&lt;dbl&gt;</th><th scope=col>&lt;dbl&gt;</th><th scope=col>&lt;dbl&gt;</th><th scope=col>&lt;fct&gt;</th></tr>\n",
       "</thead>\n",
       "<tbody>\n",
       "\t<tr><td>1.104695</td><td>0.3196716</td><td>-2.3762322</td><td> 0.7565583</td><td> 0.4597353</td><td>N</td></tr>\n",
       "\t<tr><td>1.537184</td><td>0.7933581</td><td> 0.7759126</td><td> 1.5894274</td><td>-1.1468209</td><td>P</td></tr>\n",
       "\t<tr><td>1.537184</td><td>0.2839216</td><td> 0.7759126</td><td>-0.6315568</td><td>-0.3435428</td><td>P</td></tr>\n",
       "\t<tr><td>⋮</td><td>⋮</td><td>⋮</td><td>⋮</td><td>⋮</td><td>⋮</td></tr>\n",
       "\t<tr><td>-0.7333831</td><td>1.0078577</td><td>0.7759126</td><td> 0.1457877</td><td>-0.4582968</td><td>P</td></tr>\n",
       "\t<tr><td> 0.1315949</td><td>1.2134197</td><td>0.7759126</td><td>-0.2428845</td><td> 0.6127407</td><td>P</td></tr>\n",
       "\t<tr><td> 0.2397172</td><td>0.2302968</td><td>0.7759126</td><td>-0.5205076</td><td>-1.4528316</td><td>P</td></tr>\n",
       "</tbody>\n",
       "</table>\n"
      ],
      "text/latex": [
       "A tibble: 585 × 6\n",
       "\\begin{tabular}{llllll}\n",
       " Age & serum\\_cholestorol & chest\\_pain\\_type & resting\\_blood\\_pressure & maximum\\_heart\\_rate & Presence\\_of\\_Heart\\_Disease\\\\\n",
       " <dbl> & <dbl> & <dbl> & <dbl> & <dbl> & <fct>\\\\\n",
       "\\hline\n",
       "\t 1.104695 & 0.3196716 & -2.3762322 &  0.7565583 &  0.4597353 & N\\\\\n",
       "\t 1.537184 & 0.7933581 &  0.7759126 &  1.5894274 & -1.1468209 & P\\\\\n",
       "\t 1.537184 & 0.2839216 &  0.7759126 & -0.6315568 & -0.3435428 & P\\\\\n",
       "\t ⋮ & ⋮ & ⋮ & ⋮ & ⋮ & ⋮\\\\\n",
       "\t -0.7333831 & 1.0078577 & 0.7759126 &  0.1457877 & -0.4582968 & P\\\\\n",
       "\t  0.1315949 & 1.2134197 & 0.7759126 & -0.2428845 &  0.6127407 & P\\\\\n",
       "\t  0.2397172 & 0.2302968 & 0.7759126 & -0.5205076 & -1.4528316 & P\\\\\n",
       "\\end{tabular}\n"
      ],
      "text/markdown": [
       "\n",
       "A tibble: 585 × 6\n",
       "\n",
       "| Age &lt;dbl&gt; | serum_cholestorol &lt;dbl&gt; | chest_pain_type &lt;dbl&gt; | resting_blood_pressure &lt;dbl&gt; | maximum_heart_rate &lt;dbl&gt; | Presence_of_Heart_Disease &lt;fct&gt; |\n",
       "|---|---|---|---|---|---|\n",
       "| 1.104695 | 0.3196716 | -2.3762322 |  0.7565583 |  0.4597353 | N |\n",
       "| 1.537184 | 0.7933581 |  0.7759126 |  1.5894274 | -1.1468209 | P |\n",
       "| 1.537184 | 0.2839216 |  0.7759126 | -0.6315568 | -0.3435428 | P |\n",
       "| ⋮ | ⋮ | ⋮ | ⋮ | ⋮ | ⋮ |\n",
       "| -0.7333831 | 1.0078577 | 0.7759126 |  0.1457877 | -0.4582968 | P |\n",
       "|  0.1315949 | 1.2134197 | 0.7759126 | -0.2428845 |  0.6127407 | P |\n",
       "|  0.2397172 | 0.2302968 | 0.7759126 | -0.5205076 | -1.4528316 | P |\n",
       "\n"
      ],
      "text/plain": [
       "    Age        serum_cholestorol chest_pain_type resting_blood_pressure\n",
       "1   1.104695   0.3196716         -2.3762322       0.7565583            \n",
       "2   1.537184   0.7933581          0.7759126       1.5894274            \n",
       "3   1.537184   0.2839216          0.7759126      -0.6315568            \n",
       "⋮   ⋮          ⋮                 ⋮               ⋮                     \n",
       "583 -0.7333831 1.0078577         0.7759126        0.1457877            \n",
       "584  0.1315949 1.2134197         0.7759126       -0.2428845            \n",
       "585  0.2397172 0.2302968         0.7759126       -0.5205076            \n",
       "    maximum_heart_rate Presence_of_Heart_Disease\n",
       "1    0.4597353         N                        \n",
       "2   -1.1468209         P                        \n",
       "3   -0.3435428         P                        \n",
       "⋮   ⋮                  ⋮                        \n",
       "583 -0.4582968         P                        \n",
       "584  0.6127407         P                        \n",
       "585 -1.4528316         P                        "
      ]
     },
     "metadata": {},
     "output_type": "display_data"
    }
   ],
   "source": [
    "#scaled Data \n",
    "set.seed(1234)\n",
    "\n",
    "\n",
    "heart_disease_recipe <- recipe(Presence_of_Heart_Disease ~ Age + serum_cholestorol + chest_pain_type + resting_blood_pressure + maximum_heart_rate, data = heart_disease_train ) %>%\n",
    "    step_scale(all_predictors()) %>%\n",
    "    step_center(all_predictors()) \n",
    "heart_disease_scaled <- heart_disease_recipe %>%\n",
    "        prep() %>%\n",
    "        bake(heart_disease_train)\n",
    "\n",
    "figure_6_title\n",
    "heart_disease_scaled"
   ]
  },
  {
   "cell_type": "markdown",
   "metadata": {},
   "source": [
    "**6) Created visualization of our analyis**\n",
    "\n",
    "Below we created histograms to visulize the relationship between our factors and the presence of heart disease in an individual. "
   ]
  },
  {
   "cell_type": "code",
   "execution_count": 59,
   "metadata": {},
   "outputs": [
    {
     "name": "stderr",
     "output_type": "stream",
     "text": [
      "Warning message:\n",
      "“Removed 14 rows containing missing values (geom_bar).”\n",
      "Warning message:\n",
      "“Removed 42 rows containing missing values (geom_bar).”\n",
      "Warning message:\n",
      "“Removed 8 rows containing missing values (geom_bar).”\n"
     ]
    },
    {
     "data": {
      "image/png": "[encoded data removed]",
      "text/plain": [
       "plot without title"
      ]
     },
     "metadata": {
      "image/png": {
       "height": 900,
       "width": 1020
      }
     },
     "output_type": "display_data"
    }
   ],
   "source": [
    "options(repr.plot.width = 17, repr.plot.height = 15)\n",
    "set.seed(1234)\n",
    "\n",
    "\n",
    "plot_a <- heart_disease_train %>%\n",
    "    ggplot(aes(x = Age, fill = Presence_of_Heart_Disease)) + \n",
    "    geom_histogram(position = 'fill', color = \"black\", bins = 25) + \n",
    "    xlab(\"Age\") +\n",
    "    ylab(\"Frequency\") +\n",
    "    labs(fill = \"Presence of Heart Disease\") +\n",
    "    ggtitle(\"Age and Heart Disease\") \n",
    "\n",
    "plot_b <- heart_disease_train %>%\n",
    "   ggplot(aes(x = serum_cholestorol, fill = Presence_of_Heart_Disease)) + \n",
    "   geom_histogram(position = 'fill', color = \"black\", bins = 25) + \n",
    "   xlab(\"Cholesterol\") +\n",
    "   ylab(\"Frequency\") +\n",
    "   labs(fill = \"Presence of Heart Disease\") +\n",
    "   ggtitle(\"Cholesterol and Heart Disease\") \n",
    "\n",
    "plot_c <- heart_disease_train %>%\n",
    "   ggplot(aes(x = maximum_heart_rate, fill = Presence_of_Heart_Disease)) + \n",
    "   geom_histogram(position = 'fill', color = \"black\", bins = 25) + \n",
    "   xlab(\"Heart Rate\") +\n",
    "   ylab(\"Frequency\") +\n",
    "   labs(fill = \"Presence of Heart Disease\") +\n",
    "   ggtitle(\"Heart Rate and Heart Disease\") \n",
    "\n",
    "plot_d <- heart_disease_train %>%\n",
    "   ggplot(aes(x = chest_pain_type, fill = Presence_of_Heart_Disease)) + \n",
    "   geom_histogram(position = 'fill', color = \"black\", bins = 25) + \n",
    "   xlab(\"Chest Paint Type\") +\n",
    "   ylab(\"Frequency\") +\n",
    "   labs(fill = \"Presence of Heart Disease\") +\n",
    "   ggtitle(\"Chest Pain Type and Heart Disease\") \n",
    "\n",
    "plot_e <- heart_disease_train %>%\n",
    "   ggplot(aes(x = resting_blood_pressure, fill = Presence_of_Heart_Disease)) + \n",
    "   geom_histogram(position = 'fill', color = \"black\", bins = 25) + \n",
    "   xlab(\"Chest Pain Type\") +\n",
    "   ylab(\"Frequency\") +\n",
    "   labs(fill = \"Presence of Heart Disease\") +\n",
    "   ggtitle(\"Resting Blood Pressure and Heart Disease\") \n",
    "\n",
    "plot_grid(plot_a, plot_b, plot_c, plot_d, plot_e)"
   ]
  },
  {
   "cell_type": "markdown",
   "metadata": {},
   "source": [
    "**_Interpretations_**\n",
    "\n",
    "Histograms are used to visualize our data. These graphs show the relationship between our predictors and presence of heart disease. This lets us clearly see how each predictor impacts risk of heart disease. The predictor values have been scaled to ensure that all observations will be on a comparable scale. The plots show that age, cholesterol, and heart rate are good predictors.\n"
   ]
  },
  {
   "cell_type": "markdown",
   "metadata": {},
   "source": [
    "# Data Analysis "
   ]
  },
  {
   "cell_type": "markdown",
   "metadata": {},
   "source": [
    "**1) Perform  K-Nearest Neighbors Classification steps**\n",
    "\n",
    "a) Created a nearest_neighbors model specification, with neighbors = tune() to be able to determine which value of k creates the most accurate model and weight_func = \"rectangular\" as the model we want to fit.\n",
    "\n",
    "b) Split out overall training data into evenly-sized validation sets used to evaluate the best k value. We used 5 folds for our evaluation which is enough to get an accuracy estimate and reasonable computation time. \n",
    "\n",
    "c) Using the tibble function we created a data frame with a neighbors variable that contains the sequence of values of k to try. Here we are testing values from 1-30 (This gives a wide range of values to test, but still allows the program to run at a reasonable speed.)\n",
    "\n",
    "d) Added model and recipe to a workflow\n",
    "\n",
    "i) Used tune_grid function to fit the model for a range of values, and in the grid argument, we specified the range of k values that we pre-determined in step c.\n",
    "\n",
    "ii) Used the collect_metrics function to aggregate the mean and standard error of the classifiers validation accuracy across the folds.\n",
    "\n",
    "iii) when then filter for the accuracy listed under the .metric column\n",
    "\n",
    "**We have created a table below with the k values and their accuracies in order for us to determine which k value to use.**\n"
   ]
  },
  {
   "cell_type": "code",
   "execution_count": 36,
   "metadata": {},
   "outputs": [
    {
     "data": {
      "text/html": [
       "<span style=white-space:pre-wrap>'Figure  7: possible k vlaues and thier corresponding data'</span>"
      ],
      "text/latex": [
       "'Figure  7: possible k vlaues and thier corresponding data'"
      ],
      "text/markdown": [
       "<span style=white-space:pre-wrap>'Figure  7: possible k vlaues and thier corresponding data'</span>"
      ],
      "text/plain": [
       "[1] \"Figure  7: possible k vlaues and thier corresponding data\""
      ]
     },
     "metadata": {},
     "output_type": "display_data"
    },
    {
     "data": {
      "text/html": [
       "<table>\n",
       "<caption>A tibble: 30 × 7</caption>\n",
       "<thead>\n",
       "\t<tr><th scope=col>neighbors</th><th scope=col>.metric</th><th scope=col>.estimator</th><th scope=col>mean</th><th scope=col>n</th><th scope=col>std_err</th><th scope=col>.config</th></tr>\n",
       "\t<tr><th scope=col>&lt;int&gt;</th><th scope=col>&lt;chr&gt;</th><th scope=col>&lt;chr&gt;</th><th scope=col>&lt;dbl&gt;</th><th scope=col>&lt;int&gt;</th><th scope=col>&lt;dbl&gt;</th><th scope=col>&lt;chr&gt;</th></tr>\n",
       "</thead>\n",
       "<tbody>\n",
       "\t<tr><td>1</td><td>accuracy</td><td>binary</td><td>0.7093845</td><td>5</td><td>0.004819086</td><td>Model01</td></tr>\n",
       "\t<tr><td>2</td><td>accuracy</td><td>binary</td><td>0.7093845</td><td>5</td><td>0.004819086</td><td>Model02</td></tr>\n",
       "\t<tr><td>3</td><td>accuracy</td><td>binary</td><td>0.7452552</td><td>5</td><td>0.005422014</td><td>Model03</td></tr>\n",
       "\t<tr><td>⋮</td><td>⋮</td><td>⋮</td><td>⋮</td><td>⋮</td><td>⋮</td><td>⋮</td></tr>\n",
       "\t<tr><td>28</td><td>accuracy</td><td>binary</td><td>0.7845445</td><td>5</td><td>0.0170858</td><td>Model28</td></tr>\n",
       "\t<tr><td>29</td><td>accuracy</td><td>binary</td><td>0.7811109</td><td>5</td><td>0.0188203</td><td>Model29</td></tr>\n",
       "\t<tr><td>30</td><td>accuracy</td><td>binary</td><td>0.7811109</td><td>5</td><td>0.0188203</td><td>Model30</td></tr>\n",
       "</tbody>\n",
       "</table>\n"
      ],
      "text/latex": [
       "A tibble: 30 × 7\n",
       "\\begin{tabular}{lllllll}\n",
       " neighbors & .metric & .estimator & mean & n & std\\_err & .config\\\\\n",
       " <int> & <chr> & <chr> & <dbl> & <int> & <dbl> & <chr>\\\\\n",
       "\\hline\n",
       "\t 1 & accuracy & binary & 0.7093845 & 5 & 0.004819086 & Model01\\\\\n",
       "\t 2 & accuracy & binary & 0.7093845 & 5 & 0.004819086 & Model02\\\\\n",
       "\t 3 & accuracy & binary & 0.7452552 & 5 & 0.005422014 & Model03\\\\\n",
       "\t ⋮ & ⋮ & ⋮ & ⋮ & ⋮ & ⋮ & ⋮\\\\\n",
       "\t 28 & accuracy & binary & 0.7845445 & 5 & 0.0170858 & Model28\\\\\n",
       "\t 29 & accuracy & binary & 0.7811109 & 5 & 0.0188203 & Model29\\\\\n",
       "\t 30 & accuracy & binary & 0.7811109 & 5 & 0.0188203 & Model30\\\\\n",
       "\\end{tabular}\n"
      ],
      "text/markdown": [
       "\n",
       "A tibble: 30 × 7\n",
       "\n",
       "| neighbors &lt;int&gt; | .metric &lt;chr&gt; | .estimator &lt;chr&gt; | mean &lt;dbl&gt; | n &lt;int&gt; | std_err &lt;dbl&gt; | .config &lt;chr&gt; |\n",
       "|---|---|---|---|---|---|---|\n",
       "| 1 | accuracy | binary | 0.7093845 | 5 | 0.004819086 | Model01 |\n",
       "| 2 | accuracy | binary | 0.7093845 | 5 | 0.004819086 | Model02 |\n",
       "| 3 | accuracy | binary | 0.7452552 | 5 | 0.005422014 | Model03 |\n",
       "| ⋮ | ⋮ | ⋮ | ⋮ | ⋮ | ⋮ | ⋮ |\n",
       "| 28 | accuracy | binary | 0.7845445 | 5 | 0.0170858 | Model28 |\n",
       "| 29 | accuracy | binary | 0.7811109 | 5 | 0.0188203 | Model29 |\n",
       "| 30 | accuracy | binary | 0.7811109 | 5 | 0.0188203 | Model30 |\n",
       "\n"
      ],
      "text/plain": [
       "   neighbors .metric  .estimator mean      n std_err     .config\n",
       "1  1         accuracy binary     0.7093845 5 0.004819086 Model01\n",
       "2  2         accuracy binary     0.7093845 5 0.004819086 Model02\n",
       "3  3         accuracy binary     0.7452552 5 0.005422014 Model03\n",
       "⋮  ⋮         ⋮        ⋮          ⋮         ⋮ ⋮           ⋮      \n",
       "28 28        accuracy binary     0.7845445 5 0.0170858   Model28\n",
       "29 29        accuracy binary     0.7811109 5 0.0188203   Model29\n",
       "30 30        accuracy binary     0.7811109 5 0.0188203   Model30"
      ]
     },
     "metadata": {},
     "output_type": "display_data"
    }
   ],
   "source": [
    "# a) created a nearest_neighbor model\n",
    "set.seed(1234)\n",
    "\n",
    "\n",
    "knn_model <- nearest_neighbor(weight_func = \"rectangular\", neighbors = tune()) %>%\n",
    "    set_engine(\"kknn\") %>%\n",
    "    set_mode(\"classification\")\n",
    "\n",
    "#b created a validation sets\n",
    "heart_disease_vfold <- vfold_cv(heart_disease_train, v=5, strata = Presence_of_Heart_Disease)\n",
    "                              \n",
    "#c creating a data table with possible k values\n",
    "k_vals <- tibble(neighbors = seq(from=1, to=30))\n",
    "\n",
    "#d these steps together in a workflow and compute the accuracy of \n",
    "Heart_disease_predictions <- workflow() %>%\n",
    "    add_recipe(heart_disease_recipe) %>%\n",
    "    add_model(knn_model) %>%\n",
    "    tune_grid(resample = heart_disease_vfold, grid = k_vals) %>%\n",
    "    collect_metrics() %>% \n",
    "    filter(.metric == \"accuracy\")\n",
    "\n",
    "figure_7_title\n",
    "Heart_disease_predictions"
   ]
  },
  {
   "cell_type": "markdown",
   "metadata": {},
   "source": [
    "**_2) We now need to pick the best k value to use in our data analysis_**"
   ]
  },
  {
   "cell_type": "markdown",
   "metadata": {},
   "source": [
    "**below is a graph of the possible k values against the accuracy of each one**\n",
    "\n",
    "We can visually determine from this graph that the k value with the most accuracy is roughly between 11 and 12.\n",
    " "
   ]
  },
  {
   "cell_type": "code",
   "execution_count": null,
   "metadata": {},
   "outputs": [],
   "source": [
    "options(repr.plot.width = 8, repr.plot.height = 8)\n",
    "set.seed(1234)\n",
    "\n",
    "\n",
    "k_value_plot <- Heart_disease_predictions %>%\n",
    "ggplot(aes(x=neighbors, y=mean)) +\n",
    "geom_point()+\n",
    "geom_line()+\n",
    "labs(x=\"Number of Neighbors (K Value)\", y=\"Mean Accuracy of Model\")+\n",
    "ggtitle(\"Mean Accuracy for K Values from 1 to 30\")+\n",
    "theme(text=element_text(size=12))\n",
    "k_value_plot"
   ]
  },
  {
   "cell_type": "markdown",
   "metadata": {},
   "source": [
    "Using the code below we arrange the k values in descending order of their mean value, this arranges the k values with the highest accuracy at the top where we can slice and pull the desired value."
   ]
  },
  {
   "cell_type": "code",
   "execution_count": 38,
   "metadata": {},
   "outputs": [
    {
     "data": {
      "text/html": [
       "<span style=white-space:pre-wrap>'Figure  8: K value with the Highest Accuracy'</span>"
      ],
      "text/latex": [
       "'Figure  8: K value with the Highest Accuracy'"
      ],
      "text/markdown": [
       "<span style=white-space:pre-wrap>'Figure  8: K value with the Highest Accuracy'</span>"
      ],
      "text/plain": [
       "[1] \"Figure  8: K value with the Highest Accuracy\""
      ]
     },
     "metadata": {},
     "output_type": "display_data"
    },
    {
     "data": {
      "text/html": [
       "11"
      ],
      "text/latex": [
       "11"
      ],
      "text/markdown": [
       "11"
      ],
      "text/plain": [
       "[1] 11"
      ]
     },
     "metadata": {},
     "output_type": "display_data"
    }
   ],
   "source": [
    "#picking best k value\n",
    "set.seed(1234)\n",
    "\n",
    "\n",
    "best_k_value <- Heart_disease_predictions %>%\n",
    "    arrange(desc(mean)) %>%\n",
    "    slice(1)%>%\n",
    "    pull(neighbors)\n",
    "\n",
    "figure_8_title\n",
    "best_k_value"
   ]
  },
  {
   "cell_type": "markdown",
   "metadata": {},
   "source": [
    "We can also use code to determine the accuracy of the best value of k. We do this by filtering for the desired k value row and then pulling the mean value and multiplying it by 100 to make it a percent."
   ]
  },
  {
   "cell_type": "code",
   "execution_count": 41,
   "metadata": {},
   "outputs": [
    {
     "data": {
      "text/html": [
       "<span style=white-space:pre-wrap>'Figure  9: accuracy of best k value'</span>"
      ],
      "text/latex": [
       "'Figure  9: accuracy of best k value'"
      ],
      "text/markdown": [
       "<span style=white-space:pre-wrap>'Figure  9: accuracy of best k value'</span>"
      ],
      "text/plain": [
       "[1] \"Figure  9: accuracy of best k value\""
      ]
     },
     "metadata": {},
     "output_type": "display_data"
    },
    {
     "data": {
      "text/html": [
       "78.9556015125857"
      ],
      "text/latex": [
       "78.9556015125857"
      ],
      "text/markdown": [
       "78.9556015125857"
      ],
      "text/plain": [
       "[1] 78.9556"
      ]
     },
     "metadata": {},
     "output_type": "display_data"
    }
   ],
   "source": [
    "#accuracy of k value\n",
    "set.seed(1234)\n",
    "\n",
    "\n",
    "mean_accuracy_best_k <- Heart_disease_predictions %>%\n",
    "    filter(neighbors == best_k_value)%>%\n",
    "    pull(mean)*100\n",
    "\n",
    "figure_9_title\n",
    "mean_accuracy_best_k"
   ]
  },
  {
   "cell_type": "markdown",
   "metadata": {},
   "source": [
    "**2) Make a new model specification for the best parameter value k, and retrain the classifier using the fit function.**\n",
    "\n",
    "a) we create a new model specification for the best parameter value k \n",
    "\n",
    "b) Next we combine the model specification and recipe into a workflow, and use the fit function to retrain the classifier."
   ]
  },
  {
   "cell_type": "code",
   "execution_count": 44,
   "metadata": {},
   "outputs": [
    {
     "data": {
      "text/html": [
       "<span style=white-space:pre-wrap>'Figure  10: heart Disease Workflow'</span>"
      ],
      "text/latex": [
       "'Figure  10: heart Disease Workflow'"
      ],
      "text/markdown": [
       "<span style=white-space:pre-wrap>'Figure  10: heart Disease Workflow'</span>"
      ],
      "text/plain": [
       "[1] \"Figure  10: heart Disease Workflow\""
      ]
     },
     "metadata": {},
     "output_type": "display_data"
    },
    {
     "data": {
      "text/plain": [
       "══ Workflow [trained] ══════════════════════════════════════════════════════════\n",
       "\u001b[3mPreprocessor:\u001b[23m Recipe\n",
       "\u001b[3mModel:\u001b[23m nearest_neighbor()\n",
       "\n",
       "── Preprocessor ────────────────────────────────────────────────────────────────\n",
       "2 Recipe Steps\n",
       "\n",
       "• step_scale()\n",
       "• step_center()\n",
       "\n",
       "── Model ───────────────────────────────────────────────────────────────────────\n",
       "\n",
       "Call:\n",
       "kknn::train.kknn(formula = ..y ~ ., data = data, ks = ~best_k_value,     kernel = ~\"rectangular\")\n",
       "\n",
       "Type of response variable: nominal\n",
       "Minimal misclassification: 0.2188034\n",
       "Best kernel: rectangular\n",
       "Best k: 11"
      ]
     },
     "metadata": {},
     "output_type": "display_data"
    }
   ],
   "source": [
    "#create model\n",
    "set.seed(1234)\n",
    "\n",
    "\n",
    "#(recipe for reference)\n",
    "heart_disease_recipe <- recipe(Presence_of_Heart_Disease ~ Age + serum_cholestorol + chest_pain_type + resting_blood_pressure + maximum_heart_rate, data = heart_disease_train ) %>%\n",
    "    step_scale(all_predictors()) %>%\n",
    "    step_center(all_predictors()) \n",
    "heart_disease_scaled <- heart_disease_recipe %>%\n",
    "        prep() %>%\n",
    "        bake(heart_disease_train) \n",
    "\n",
    "#a)new model with best k value\n",
    "knn_best_model <- nearest_neighbor(weight_func = \"rectangular\", neighbors = best_k_value) %>%\n",
    "    set_engine(\"kknn\")%>%\n",
    "    set_mode(\"classification\") \n",
    "\n",
    "#pass the model specification and the training data set to the fit() function. \n",
    "heart_disease_fit <- workflow() %>%\n",
    "    add_recipe(heart_disease_recipe) %>%\n",
    "    add_model(knn_best_model) %>%\n",
    "    fit(heart_disease_train)\n",
    "figure_10_title\n",
    "heart_disease_fit "
   ]
  },
  {
   "cell_type": "markdown",
   "metadata": {},
   "source": [
    "**3) Evaluate the estimated accuracy of the classifier on the test set using the predict function.**\n",
    "     Using the predict function we use our model to predict the presence of heart disease for our testing data. \n",
    "     \n",
    "     * bind_cols to add the column of predictions to the original test data\n",
    "     * we use the metrics function from tidymodels to get the statistics about the quality of our model\n",
    "     * and filter for accuracy as we want to determine the accuracy of our model\n",
    "     \n",
    "**4)We can pull the estimate and times this by 100 to get the how accurate out model is in percent.** "
   ]
  },
  {
   "cell_type": "code",
   "execution_count": 48,
   "metadata": {},
   "outputs": [
    {
     "data": {
      "text/html": [
       "<span style=white-space:pre-wrap>'Figure  11: accuracy of model'</span>"
      ],
      "text/latex": [
       "'Figure  11: accuracy of model'"
      ],
      "text/markdown": [
       "<span style=white-space:pre-wrap>'Figure  11: accuracy of model'</span>"
      ],
      "text/plain": [
       "[1] \"Figure  11: accuracy of model\""
      ]
     },
     "metadata": {},
     "output_type": "display_data"
    },
    {
     "data": {
      "text/html": [
       "79.9196787148594"
      ],
      "text/latex": [
       "79.9196787148594"
      ],
      "text/markdown": [
       "79.9196787148594"
      ],
      "text/plain": [
       "[1] 79.91968"
      ]
     },
     "metadata": {},
     "output_type": "display_data"
    }
   ],
   "source": [
    "#Evalute accuracy\n",
    "set.seed(1234)\n",
    "heart_disease_testing_model <- heart_disease_fit %>%\n",
    "    predict(heart_disease_test) %>%\n",
    "    bind_cols(heart_disease_test) %>%\n",
    "    metrics(truth = Presence_of_Heart_Disease, estimate = .pred_class) %>%\n",
    "    filter(.metric == \"accuracy\")\n",
    "\n",
    "percent_accuracy <- heart_disease_testing_model%>%\n",
    "    pull(.estimate)*100\n",
    "\n",
    "figure_11_title\n",
    "percent_accuracy"
   ]
  },
  {
   "cell_type": "markdown",
   "metadata": {},
   "source": [
    "Predicting on test dataset and report accuracy and confusion matrix"
   ]
  },
  {
   "cell_type": "code",
   "execution_count": 52,
   "metadata": {},
   "outputs": [
    {
     "data": {
      "text/html": [
       "<span style=white-space:pre-wrap>'Figure  12: Configuration Matrix of Model'</span>"
      ],
      "text/latex": [
       "'Figure  12: Configuration Matrix of Model'"
      ],
      "text/markdown": [
       "<span style=white-space:pre-wrap>'Figure  12: Configuration Matrix of Model'</span>"
      ],
      "text/plain": [
       "[1] \"Figure  12: Configuration Matrix of Model\""
      ]
     },
     "metadata": {},
     "output_type": "display_data"
    },
    {
     "data": {
      "text/plain": [
       "          Truth\n",
       "Prediction   N   P\n",
       "         N  83  22\n",
       "         P  28 116"
      ]
     },
     "metadata": {},
     "output_type": "display_data"
    }
   ],
   "source": [
    "set.seed(1234)\n",
    "\n",
    "\n",
    "heart_predictions <- predict(heart_disease_fit, heart_disease_test) %>%\n",
    "      bind_cols(heart_disease_test)\n",
    "\n",
    "heart_conf_mat <- heart_predictions %>%\n",
    "        conf_mat(truth = Presence_of_Heart_Disease, estimate = .pred_class)    \n",
    "\n",
    "figure_12_title\n",
    "heart_conf_mat"
   ]
  },
  {
   "cell_type": "markdown",
   "metadata": {},
   "source": [
    "**Visualization of Analysis**\n",
    "\n",
    "After predicting and analyzing our data, we now have our confusion matrix, which shows us the number of correctly predicted classifications per type. This confusion matrix is theoretically a visualization method that tells us our accuracy and resulting answer, but it is an ineffective visualization method that has hard for humans to discern and understand, and difficult to manipulate as data seeing as it is not a tidy dataframe.\n",
    "\n",
    "The following code is a written function that produces and wrangles the prediction data in such a way, that it returns two tidy dataframes with data within those dataframes being nearly identical to the data shown within the confusion matrix, albeit in a more understandable manner. The function called measurement_func, is a created function that takes in the dataframe that has the .pred column binded to it and compares the .pred column with the actual result column. It takes each element within the .pred vector and directly compares it through the usage of an if-else statement in order to generate a new vector with the result of that prediction. If the prediction matches the correct classification, we add a \"Correct\" character to the newly generated vector. We keep doing this as it goes down the result column while sorting by Negative and Postive. For example, if the correct result is \"N\" signifying \"Negative\" and the model predicted \"N\", then we add a new value of \"Correct\" to the new vector for negative values. If the model predicted \"P\" while the correct result is \"N\", then we would add a \"Incorrect\" value to the negative vector. Same goes for \"P\" signifying \"Positive\": if the correct result is \"P\" and the model predicted \"P\", we would add a \"Correct\" value to the new vector for positive values, an incorrect prediction of \"N\" would result in the addition of a \"Incorrect\" value.\n",
    "\n",
    "While all this is going on, we also have an accumulator/counter that is creating a vector of numbers starting at 1, and increasing by 1 till the total number of \"N\" and \"P\" values. This is going to be called the index vector which will be helpful when we graph or look at the dataframe.\n",
    "\n",
    "Finally, we combine the resulting vectors into two different dataframes: one for P results and one for N results and add the dataframes to a list which we return.\n",
    "\n",
    "Using the returned dataframes, which are already tidy, we can easily produce a simple and clear visualization that is much easier to understand than the previous confusion matrix. This step to create the function is important because it now makes our code reproducable which is very important for data analysis. Another method that we thought of for making a visualization would have been to manually graph the values produced by the confusion matrix, but the resulting graph would not have been accurate if we change the data split or if we change the seed."
   ]
  },
  {
   "cell_type": "code",
   "execution_count": 55,
   "metadata": {},
   "outputs": [
    {
     "data": {
      "text/html": [
       "<span style=white-space:pre-wrap>'Figure  13: Visualization of Model'</span>"
      ],
      "text/latex": [
       "'Figure  13: Visualization of Model'"
      ],
      "text/markdown": [
       "<span style=white-space:pre-wrap>'Figure  13: Visualization of Model'</span>"
      ],
      "text/plain": [
       "[1] \"Figure  13: Visualization of Model\""
      ]
     },
     "metadata": {},
     "output_type": "display_data"
    },
    {
     "data": {
      "image/png": "[encoded data removed]",
      "text/plain": [
       "plot without title"
      ]
     },
     "metadata": {
      "image/png": {
       "height": 600,
       "width": 600
      }
     },
     "output_type": "display_data"
    }
   ],
   "source": [
    "options(repr.plot.width = 10, repr.plot.height = 10)\n",
    "set.seed(1234)\n",
    "\n",
    "measurement_func <- function(df) {\n",
    "    validity_N <- c()\n",
    "    index_N <- c()\n",
    "    validity_P <- c()\n",
    "    index_P <- c()\n",
    "    for(i in 1:nrow(df)) {\n",
    "        if((slice(df['Presence_of_Heart_Disease'], i) == \"N\")) {\n",
    "            if(slice(df['.pred_class'], i) == \"N\") {\n",
    "                validity_N <- c(validity_N, \"Correct\")\n",
    "                index_N <- c(index_N, (length(index_N)+1))\n",
    "            } else {\n",
    "                validity_N <- c(validity_N, \"Incorrect\")\n",
    "                index_N <- c(index_N, (length(index_N)+1))\n",
    "            }\n",
    "        } else {\n",
    "            if(slice(df['.pred_class'], i) == \"P\") {\n",
    "                validity_P <- c(validity_P, \"Correct\")\n",
    "                index_P <- c(index_P, (length(index_P)+1))\n",
    "            } else {\n",
    "                validity_P <- c(validity_P, \"Incorrect\")\n",
    "                index_P <- c(index_P, (length(index_P)+1))\n",
    "            }\n",
    "        }\n",
    "    }\n",
    "    return(list(\"df1\" = data.frame(index_N, validity_N), \"df2\" = data.frame(index_P, validity_P)))\n",
    "}\n",
    "\n",
    "data <- measurement_func(heart_predictions)\n",
    "\n",
    "graphN <- ggplot(data$df1, aes(x = validity_N, fill = validity_N)) + geom_bar() + labs(x = \"Validity\", y = \"Count\", fill = \"Legend\") + ggtitle(\"Correct vs Incorrect for Negative Presence\")\n",
    "\n",
    "\n",
    "graphP <- ggplot(data$df2, aes(x = validity_P, fill= validity_P)) + geom_bar() + labs(x = \"Validity\", y = \"Count\", fill = \"Legend\") + ggtitle(\"Correct vs Incorrect for Positive Presence\")\n",
    "\n",
    "figure_13_title \n",
    "plot_grid(graphN, graphP)"
   ]
  },
  {
   "cell_type": "markdown",
   "metadata": {},
   "source": [
    "**Breakdown of Visualization**\n",
    "\n",
    "The above graphs each represent a different type of classification. The graph on the left are all the Negative classifications from the Presence_of_heart_Disease column and the right graph represents all the Positive classifications. The plotted value on the x-axis are the two validity outcomes: correctly predicted and incorrectly predicted. They are measured using the y-axis of count meaning how many correctly and how many incorrectly predicted outcomes. The left graph plots the number of correct and incorrect negative predictions: if the model predicts \"N\" and the actual result is \"N\" and when the model predicts \"P\" and the actual result is \"N\" respectively. The right graph is the same with positive predictions: if the model predicts \"P\" and the actual result is \"P\" results in one correct outcome and if the model predicts 'N\" and the actualy result is \"P\" results in one incorrect outcome. \n",
    "\n",
    "We decided to graph the negative vs positive results seperately due to the fact that in this data analysis field, medical diagnosis, predicting correct results when the diagnosis is postivie is much more important than predicting correct results when the diagnosis is negative. It is important to seperate the data to see clearly how well our analysis model is doing on each result. The graphs produced make it quite clear that our model works much better when predicting positive results then when predicting negative results which is a good thing. When the actual result was positive, our model predicted 116 counts correctly and only 22 counts incorrectly resulting in a accuracy of around 85%. When comparing to predicting negative results, we had our model predict 83 correct results and 28 incorrect results which means for negative diagnosis', we had an accuracy of 75%. \n",
    "\n",
    "This is great seeing as we have 10% more accurate positive predictions and that is a huge difference since predicting wrong on a negative diagnosis results in a check-up and possible spending of money, but no mortal or fatal outcomes. Whereas if we predict wrong on a positive diagnosis, the patient would not recieve follow-up treatment which could result in disastrous outcomes and terrible medical hinderences. \n",
    "\n",
    "Despite the fact that our model performs better on positive diagnosis' when compared to negative, it is still not completely accurate when predicting heart disease. Further follow up from a docter is required if in some case our model is used in the medical field as a early warning for heart disease. When doing classification in the medical field, it is important to have as high of an accuracy as possible, nearing 100%, in order to ensure proper treatment is distributed and the right medical personel are contacted."
   ]
  },
  {
   "cell_type": "code",
   "execution_count": null,
   "metadata": {},
   "outputs": [],
   "source": []
  }
 ],
 "metadata": {
  "kernelspec": {
   "display_name": "R",
   "language": "R",
   "name": "ir"
  },
  "language_info": {
   "codemirror_mode": "r",
   "file_extension": ".r",
   "mimetype": "text/x-r-source",
   "name": "R",
   "pygments_lexer": "r",
   "version": "4.0.0"
  }
 },
 "nbformat": 4,
 "nbformat_minor": 4
}
