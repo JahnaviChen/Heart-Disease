{
 "cells": [
  {
   "cell_type": "markdown",
   "metadata": {},
   "source": [
    "## The Presence of Heart Disease and the Underlying Factors"
   ]
  },
  {
   "cell_type": "markdown",
   "metadata": {},
   "source": [
    "**Introduction:** \n",
    "\n",
    "\"Heart disease” refers to several types of heart conditions that can affect the operations of the heart muscle. The most common of these is coronary artery disease, which affects the blood flow to the heart that can result in heart attacks and heart failure. Risk of heart disease can be influenced by many factors. Growing older increases the risk of damaged and narrowed arteries and a weakened or thickened heart muscle, therefore, individuals older in age are more likely to have heart disease. Uncontrolled high blood pressure can result in hardening and thickening of your arteries, narrowing blood vessels, increasing an individual's likelihood of having heart disease. Angina is chest pain caused when your heart doesn't get enough oxygen-rich blood. Angina chest pain can indicate presence of heart disease. \n",
    "\n",
    "High blood pressure, chest pain, and high cholesterol are major warning signs for heart disease, so we decided that these factors would best predict the presence of heart disease in an individual. \n",
    "\n",
    "Our question is as follows:\n",
    "\n",
    "**Can we use the age, blood pressure, and cholesterol levels, type of chest pain and heart rate of an individual to predict whether or not they have heart disease?**\n",
    " \n",
    "This dataset shows information about several individuals that could contribute to heart disease and whether or not they have heart disease. The goal of this database is to determine the presence of heart disease in a patient. This goal is represented by the POHD field, which refers to the presence of heart disease in an individual. It is an integer valued from 0 (no presence) to 4. Experiments with this database have focused on distinguishing presence of heart disease (a value from 1 through 4) from absence (0). In this database, sex is represented by integer values, with 0 representing female and 1 representing male. The serum_cholestoral field represents serum cholesterol in mg/dl. The chest_pain_type field is represented by integer values ranging from 1-4. A value of 1 indicates typical angina, 2 is atypical angina, 3 is non-anginal pain, and 4 is asymptomatic. \n"
   ]
  },
  {
   "cell_type": "markdown",
   "metadata": {},
   "source": [
    "***Load all libraries needed for data analysis**\n",
    "\n",
    "It is important that you load all the libraries below inorder to ensure that all of the functions needed to perform the data analysis for heart disease are loaded into tidyverse. "
   ]
  },
  {
   "cell_type": "code",
   "execution_count": null,
   "metadata": {},
   "outputs": [],
   "source": [
    " if (!require(\"pacman\")) install.packages(\"pacman\")\n",
    "pacman::p_load(knitr, captioner, bundesligR, stringr)"
   ]
  },
  {
   "cell_type": "code",
   "execution_count": null,
   "metadata": {},
   "outputs": [],
   "source": [
    "#load_libraries\n",
    "\n",
    "library(tidyverse)\n",
    "library(tidymodels)\n",
    "library(repr)\n",
    "library(readxl)\n",
    "library(testthat)\n",
    "library(digest)\n",
    "library(cowplot)\n",
    "library(GGally)\n",
    "library(captioner)\n",
    "\n",
    "\n",
    "options(repr.matrix.max.rows = 6)"
   ]
  },
  {
   "cell_type": "code",
   "execution_count": null,
   "metadata": {},
   "outputs": [],
   "source": [
    "figure_nums <- captioner(prefix = \"Figure\")\n",
    "\n",
    "figure_1_title <- figure_nums(\"heart_disease_data1\", \"Heart Disease Data\")\n",
    "\n",
    "figure_2_title <- figure_nums(\"heart_disease_data2\", 'Heart Disease Data Cleaned and Wrangled')\n",
    "\n",
    "figure_3_title <- figure_nums(\"heart_disease_train\", \"Heart Disease Training Data\")\n",
    "\n",
    "figure_4_title <- figure_nums(\"summerized_POHD\", \"Summarized Values of Heart Disease\")\n",
    "\n",
    "figure_5_title <- figure_nums(\"mean_variables\", \"Mean of Each Variable Used in Classification\")\n",
    "\n",
    "figure_6_title <- figure_nums(\"heart_disease_scaled\", \"Scaled Heart Disease Data\")\n",
    "\n",
    "figure_7_title <- figure_nums(\"Heart_diseas_predons\", \"possible k vas and thier corrding data\")\n",
    "\n",
    "figure_8_title <- figure_nums(\"bet_k_vle\", \"K value with the Accuracy\")\n",
    "\n",
    "figure_9_title <- figure_nums(\"accracy_best_k\", \"accuracalue\")\n",
    "\n",
    "figure_10_title <- figure_nums(\"heart__fit\", \"heart Dease Workflow\")\n",
    "\n",
    "figure_11_title <- figure_nums(\"plot_e\", \"\")\n",
    "\n",
    "figure_12_title <- figure_nums(\"Heart_disease_predictions\", \"Possible K Values and Their Corresponding Data\")\n",
    "\n",
    "figure_13_title <- figure_nums(\"Heart_disease_preictions\", \"possible k vlaues and their corresponding data\")\n",
    "\n",
    "figure_14_title <- figure_nums(\"best_k_value\", \"K Value With the Highest Accuracy\")\n",
    "\n",
    "figure_15_title <- figure_nums(\"mean_accuracy_best_k\", \"Accuracy of Best K Value\")\n",
    "\n",
    "figure_16_title <- figure_nums(\"heart_disease_fit\", \"Heart Disease Workflow\")\n",
    "\n",
    "figure_17_title <- figure_nums(\"percent_accuracy\", \"Accuracy of Model\")\n",
    "\n",
    "figure_18_title <- figure_nums(\"heart_conf_mat\", \"Confusion Matrix of Model\")\n",
    "\n",
    "figure_19_title <- figure_nums(\"plot_grid(graphN, graphP)\", \"Visualization of Model\")"
   ]
  },
  {
   "cell_type": "markdown",
   "metadata": {},
   "source": [
    "**1) Load data for analysis**\n",
    "\n",
    "We read in all the datasets available to us, then combine them. In each data set we convert all NA's to question marks, ensureing that our data is usable. We also created informative and readable column names."
   ]
  },
  {
   "cell_type": "code",
   "execution_count": null,
   "metadata": {},
   "outputs": [],
   "source": [
    "set.seed(1234)\n",
    "#We have read in and combined all datasets and tidied the data. \n",
    "#The NAs in the datasets are replaced with question marks.\n",
    "\n",
    "cleveland_url <- \"https://archive.ics.uci.edu/ml/machine-learning-databases/heart-disease/processed.cleveland.data\"\n",
    "hungary_url <- \"https://archive.ics.uci.edu/ml/machine-learning-databases/heart-disease/processed.hungarian.data\"\n",
    "switzerland_url <- \"https://archive.ics.uci.edu/ml/machine-learning-databases/heart-disease/processed.switzerland.data\"\n",
    "va_url <- \"https://archive.ics.uci.edu/ml/machine-learning-databases/heart-disease/processed.va.data\"\n",
    "\n",
    "cleveland_data <- read_csv(cleveland_url, col_names = FALSE, na = \"?\")\n",
    "hungary_data <- read_csv(hungary_url, col_names = FALSE, na = \"?\")\n",
    "switzerland_data <- read_csv(switzerland_url, col_names = FALSE, na = \"?\")\n",
    "va_data <- read_csv(va_url, col_names = FALSE, na = \"?\")\n",
    "\n",
    "heart_disease_data1 <- full_join(cleveland_data, hungary_data) %>%\n",
    "    full_join(switzerland_data) %>%\n",
    "    full_join(va_data)\n",
    "\n",
    "colnames(heart_disease_data1) <- c(\"Age\", \"Sex\", \"chest_pain_type\", \"resting_blood_pressure\", \"serum_cholestorol\", \"fasting_blood_sugar\", \"resting_electrocardiographic_results\",\n",
    "                \"maximum_heart_rate\" , \"exercise_induced_angina\" , \"oldpeak\" , \"slope\" , \"ca\" , \"thal\" , \"POHD\")\n",
    "\n",
    "figure_1_title\n",
    "heart_disease_data1"
   ]
  },
  {
   "cell_type": "markdown",
   "metadata": {},
   "source": [
    "**2) Clean and wrangle data into a tidy format that can be used for the analysis**\n",
    "\n",
    "In our data set, the POHD column has been mutated with the purpose of  distinguishing the presence of heart disease (positive) from lack of heart disease (negative). We then selected the desired columns for our analysis. We remove NA's in our data to clean the data and make it usable."
   ]
  },
  {
   "cell_type": "code",
   "execution_count": null,
   "metadata": {},
   "outputs": [],
   "source": [
    "set.seed(1234)\n",
    "\n",
    "POHD2 <- mutate(heart_disease_data1, Presence_of_Heart_Disease = ifelse(POHD>0, \"P\", \"N\"))\n",
    "\n",
    "#select for desired columns\n",
    "heart_data <- POHD2 %>%\n",
    "                    select(Age, chest_pain_type, serum_cholestorol, Presence_of_Heart_Disease, resting_blood_pressure, maximum_heart_rate) %>%\n",
    "                    mutate(Presence_of_Heart_Disease = as_factor(Presence_of_Heart_Disease))\n",
    "#remove NAs\n",
    "heart_disease_data2 <- na.omit(heart_data)\n",
    "\n",
    "figure_2_title\n",
    "heart_disease_data2"
   ]
  },
  {
   "cell_type": "markdown",
   "metadata": {},
   "source": [
    "**3) Split data into testing or training data**\n",
    "\n",
    "We set the seed when splitting our data to ensure that it is reproducible and the rest of the code follows the same seed. We must separate our data so that we can determine the accuracy of our model. "
   ]
  },
  {
   "cell_type": "code",
   "execution_count": null,
   "metadata": {},
   "outputs": [],
   "source": [
    "set.seed(1234)\n",
    "\n",
    "\n",
    "heart_disease_split <- initial_split(heart_disease_data2, prop = 0.70, strata = Presence_of_Heart_Disease)\n",
    "heart_disease_train <- training(heart_disease_split)\n",
    "heart_disease_test <- testing(heart_disease_split)\n",
    "\n",
    "figure_3_title\n",
    "heart_disease_train"
   ]
  },
  {
   "cell_type": "markdown",
   "metadata": {},
   "source": [
    "**4) Summarize the data into tables that are relevant to our analysis**\n"
   ]
  },
  {
   "cell_type": "code",
   "execution_count": null,
   "metadata": {},
   "outputs": [],
   "source": [
    "#useful Tables \n",
    "set.seed(1234)\n",
    "\n",
    "\n",
    "summerized_POHD <- heart_disease_train %>%\n",
    "    group_by(Presence_of_Heart_Disease) %>%\n",
    "    summarize(\"Number of variable\"= n()) \n",
    "\n",
    "mean_variables <- summarize(heart_disease_train,\n",
    "                           \"Mean Age\" = mean(Age),\n",
    "                           \"Mean serum cholestoral\" = mean(serum_cholestorol),\n",
    "                           \"Mean Chest Pain Type\" = mean(chest_pain_type),\n",
    "                           \"Mean Resting Blood Pressure\" = mean(resting_blood_pressure), \n",
    "                           \"Mean maximum heart rate\" = mean(maximum_heart_rate)) \n",
    "figure_4_title\n",
    "summerized_POHD\n",
    "figure_5_title\n",
    "mean_variables"
   ]
  },
  {
   "cell_type": "markdown",
   "metadata": {},
   "source": [
    "We summarized our data into two tables.\n",
    "\n",
    "The first table shows the number of rows that correspond to positive and negative POHD values, which can be used to see that we have similar numbers of positive and negative values for heart disease presence, therefore upsampling is unnecessary. \n",
    "\n",
    "The second table shows the mean values of our predictors, letting us see how variation from the mean relates to presence of heart disease. "
   ]
  },
  {
   "cell_type": "markdown",
   "metadata": {},
   "source": [
    "**5) Created a recipe and scaled our data**\n",
    "\n",
    "Below we created a recipe for our data and scaled and center our predictors to ensure that no one predictor outweighs another due to differences in magnitude. We then applied this recipe to our data set. "
   ]
  },
  {
   "cell_type": "code",
   "execution_count": null,
   "metadata": {},
   "outputs": [],
   "source": [
    "#scaled Data \n",
    "set.seed(1234)\n",
    "\n",
    "heart_disease_recipe <- recipe(Presence_of_Heart_Disease ~ Age + serum_cholestorol + chest_pain_type + resting_blood_pressure + maximum_heart_rate, data = heart_disease_train ) %>%\n",
    "    step_scale(all_predictors()) %>%\n",
    "    step_center(all_predictors()) \n",
    "heart_disease_scaled <- heart_disease_recipe %>%\n",
    "        prep() %>%\n",
    "        bake(heart_disease_train)\n",
    "\n",
    "figure_6_title\n",
    "heart_disease_scaled\n"
   ]
  },
  {
   "cell_type": "markdown",
   "metadata": {},
   "source": [
    "**6) Created visualization of our analysis**"
   ]
  },
  {
   "cell_type": "code",
   "execution_count": null,
   "metadata": {},
   "outputs": [],
   "source": [
    "options(repr.plot.width = 15, repr.plot.height = 6)\n",
    "set.seed(1234)\n",
    "\n",
    "\n",
    "plot_a <- heart_disease_train %>%\n",
    "    ggplot(aes(x = Age, fill = Presence_of_Heart_Disease)) + \n",
    "    geom_histogram(position = 'fill', color = \"black\", bins = 25) + \n",
    "    xlab(\"Age\") +\n",
    "    ylab(\"Frequency\") +\n",
    "    labs(fill = \"Presence of Heart Disease\") +\n",
    "    ggtitle(\"Age and Heart Disease\") \n",
    "\n",
    "plot_b <- heart_disease_train %>%\n",
    "   ggplot(aes(x = serum_cholestorol, fill = Presence_of_Heart_Disease)) + \n",
    "   geom_histogram(position = 'fill', color = \"black\", bins = 25) + \n",
    "   xlab(\"Cholesterol\") +\n",
    "   ylab(\"Frequency\") +\n",
    "   labs(fill = \"Presence of Heart Disease\") +\n",
    "   ggtitle(\"Cholesterol and Heart Disease\") \n",
    "\n",
    "plot_c <- heart_disease_train %>%\n",
    "   ggplot(aes(x = maximum_heart_rate, fill = Presence_of_Heart_Disease)) + \n",
    "   geom_histogram(position = 'fill', color = \"black\", bins = 25) + \n",
    "   xlab(\"Heart Rate\") +\n",
    "   ylab(\"Frequency\") +\n",
    "   labs(fill = \"Presence of Heart Disease\") +\n",
    "   ggtitle(\"Heart Rate and Heart Disease\") \n",
    "\n",
    "plot_d <- heart_disease_train %>%\n",
    "   ggplot(aes(x = chest_pain_type, fill = Presence_of_Heart_Disease)) + \n",
    "   geom_histogram(position = 'fill', color = \"black\", bins = 25) + \n",
    "   xlab(\"Chest Pain Type\") +\n",
    "   ylab(\"Frequency\") +\n",
    "   labs(fill = \"Presence of Heart Disease\") +\n",
    "   ggtitle(\"Chest Pain Type and Heart Disease\") \n",
    "\n",
    "plot_e <- heart_disease_train %>%\n",
    "   ggplot(aes(x = resting_blood_pressure, fill = Presence_of_Heart_Disease)) + \n",
    "   geom_histogram(position = 'fill', color = \"black\", bins = 25) + \n",
    "   xlab(\"Resting Blood Pressure\") +\n",
    "   ylab(\"Frequency\") +\n",
    "   labs(fill = \"Presence of Heart Disease\") +\n",
    "   ggtitle(\"Resting Blood Pressure and Heart Disease\") \n",
    "\n",
    "plot_grid(plot_a, plot_b)\n",
    "plot_grid(plot_c, plot_d)\n",
    "print(\"Figure 7                                              Figure 8\")\n",
    "options(repr.plot.width = 10, repr.plot.height = 8)\n",
    "plot_e\n",
    "print('Figure 9                                              Figure 10')"
   ]
  },
  {
   "cell_type": "markdown",
   "metadata": {},
   "source": [
    "'Figure 11'"
   ]
  },
  {
   "cell_type": "markdown",
   "metadata": {},
   "source": [
    "**Interpretations**\n",
    "\n",
    "We decided that histograms would best represent our data and be easiest to understand. We used our original unscaled data to give more meaning to the predictors since it is easier to understand the graphs in their unscaled state. \n",
    "\n",
    "On the Age and Heart Disease Graph you can see that as age increases the presence of heart disease among the individuals increases. There's a strong positive linear relationship with few anomalies between these variables.\n",
    "\n",
    "On the Cholesterol and Heart Disease Graph increased levels of cholesterol lead to more individuals with heart disease. There's a strong positive linear relationship. \n",
    "\n",
    "As resting heart rate increases, the amount of individuals with heart disease decreases, resulting in a strong negative linear relationship between these variables. \n",
    "\n",
    "On the Chest Pain Type and Heart Disease you can observe that there are significantly more cases of heart disease found in patients with a certain type of chest pain (4). So this variable is also important to our analysis. This is a medium strengthed positive linear relationship.\n",
    "\n",
    "As resting blood pressure increases, the presence of heart disease also increases. Although this is a weaker relationship, it would still be beneficial to include in our data analysis. The graph is a medium strengthed positive relationship."
   ]
  },
  {
   "cell_type": "markdown",
   "metadata": {},
   "source": [
    "# Data Analysis "
   ]
  },
  {
   "cell_type": "markdown",
   "metadata": {},
   "source": [
    "**1) Perform  K-Nearest Neighbors Classification steps**\n",
    "\n",
    "a) Created a nearest_neighbors model specification, with neighbors = tune() to be able to determine which value of k creates the most accurate model.\n",
    "\n",
    "b) Split out overall training data into validation sets, using 5 folds.\n",
    "\n",
    "c) Created a data frame with neighbors variable that contains the sequence of values of k to try. \n",
    "\n",
    "d) Added model and recipe to workflow\n",
    "\n",
    "i) Used tune_grid to fit the model for a range of values, we specify the predetermined range of k values in the grid argument.\n",
    "\n",
    "ii) Used the collect_metrics function to aggregate the mean and standard error of the classifiers validation accuracy across the folds.\n",
    "\n",
    "iii) Filtered for the accuracy listed under the .metric column\n",
    "\n",
    "**We have created a table below with the k values and their accuracies in order for us to determine which k value to use.**\n"
   ]
  },
  {
   "cell_type": "code",
   "execution_count": null,
   "metadata": {},
   "outputs": [],
   "source": [
    "\n",
    "set.seed(1234)\n",
    "\n",
    "knn_model <- nearest_neighbor(weight_func = \"rectangular\", neighbors = tune()) %>%\n",
    "    set_engine(\"kknn\") %>%\n",
    "    set_mode(\"classification\")\n",
    "\n",
    "heart_disease_vfold <- vfold_cv(heart_disease_train, v=5, strata = Presence_of_Heart_Disease)\n",
    "                              \n",
    "k_vals <- tibble(neighbors = seq(from=1, to=30))\n",
    "\n",
    "Heart_disease_predictions <- workflow() %>%\n",
    "    add_recipe(heart_disease_recipe) %>%\n",
    "    add_model(knn_model) %>%\n",
    "    tune_grid(resample = heart_disease_vfold, grid = k_vals) %>%\n",
    "    collect_metrics() %>% \n",
    "    filter(.metric == \"accuracy\")\n",
    "figure_12_title\n",
    "Heart_disease_predictions"
   ]
  },
  {
   "cell_type": "markdown",
   "metadata": {},
   "source": [
    "**_2) We now need to pick the best k value to use in our data analysis_**"
   ]
  },
  {
   "cell_type": "markdown",
   "metadata": {},
   "source": [
    "\n",
    "We can visually determine from this graph that the k value with the most accuracy is roughly between 11 and 12.\n",
    " "
   ]
  },
  {
   "cell_type": "code",
   "execution_count": null,
   "metadata": {},
   "outputs": [],
   "source": [
    "options(repr.plot.width = 8, repr.plot.height = 8)\n",
    "set.seed(1234)\n",
    "\n",
    "\n",
    "k_value_plot <- Heart_disease_predictions %>%\n",
    "ggplot(aes(x=neighbors, y=mean)) +\n",
    "geom_point()+\n",
    "geom_line()+\n",
    "labs(x=\"Number of Neighbors (K Value)\", y=\"Mean Accuracy of Model\")+\n",
    "ggtitle(\"Mean Accuracy for K Values from 1 to 30\")+\n",
    "theme(text=element_text(size=12))\n",
    "k_value_plot\n",
    "print(\"Figure 13\")"
   ]
  },
  {
   "cell_type": "markdown",
   "metadata": {},
   "source": [
    "We arrange the k values in descending order of their mean value, putting k values with the highest accuracy at the top where we can slice and pull the desired value. This allows us to determine the best k value."
   ]
  },
  {
   "cell_type": "code",
   "execution_count": null,
   "metadata": {},
   "outputs": [],
   "source": [
    "#picking best k value\n",
    "set.seed(1234)\n",
    "\n",
    "\n",
    "best_k_value <- Heart_disease_predictions %>%\n",
    "    arrange(desc(mean)) %>%\n",
    "    slice(1)%>%\n",
    "    pull(neighbors)\n",
    "\n",
    "figure_14_title\n",
    "best_k_value"
   ]
  },
  {
   "cell_type": "markdown",
   "metadata": {},
   "source": [
    "Determine the accuracy of the best value of k: filter for the desired k value row, then pull the mean value and multiplying it by 100 to make it a percent."
   ]
  },
  {
   "cell_type": "code",
   "execution_count": null,
   "metadata": {},
   "outputs": [],
   "source": [
    "#accuracy of k value\n",
    "set.seed(1234)\n",
    "\n",
    "\n",
    "mean_accuracy_best_k <- Heart_disease_predictions %>%\n",
    "    filter(neighbors == best_k_value)%>%\n",
    "    pull(mean)*100\n",
    "\n",
    "figure_15_title\n",
    "mean_accuracy_best_k"
   ]
  },
  {
   "cell_type": "markdown",
   "metadata": {},
   "source": [
    "**3) Make a new model specification for the best parameter value k, and retrain the classifier using the fit function.**\n",
    "\n",
    "a) Created a new model specification for the best parameter value k \n",
    "\n",
    "b) Combined the model specification and recipe into a workflow, and used the fit function to retrain the classifier using our training data."
   ]
  },
  {
   "cell_type": "code",
   "execution_count": null,
   "metadata": {},
   "outputs": [],
   "source": [
    "#create model\n",
    "set.seed(1234)\n",
    "\n",
    "\n",
    "#(recipe for reference)\n",
    "heart_disease_recipe <- recipe(Presence_of_Heart_Disease ~ Age + serum_cholestorol + chest_pain_type + resting_blood_pressure + maximum_heart_rate, data = heart_disease_train ) %>%\n",
    "    step_scale(all_predictors()) %>%\n",
    "    step_center(all_predictors()) \n",
    "heart_disease_scaled <- heart_disease_recipe %>%\n",
    "        prep() %>%\n",
    "        bake(heart_disease_train) \n",
    "\n",
    "#a)new model with best k value\n",
    "knn_best_model <- nearest_neighbor(weight_func = \"rectangular\", neighbors = best_k_value) %>%\n",
    "    set_engine(\"kknn\")%>%\n",
    "    set_mode(\"classification\") \n",
    "\n",
    "#pass the model specification and the training data set to the fit() function. \n",
    "heart_disease_fit <- workflow() %>%\n",
    "    add_recipe(heart_disease_recipe) %>%\n",
    "    add_model(knn_best_model) %>%\n",
    "    fit(heart_disease_train)\n",
    "figure_16_title\n",
    "heart_disease_fit "
   ]
  },
  {
   "cell_type": "markdown",
   "metadata": {},
   "source": [
    "**4) Evaluate the estimated accuracy of the classifier on the test set using the predict function.**\n",
    "     Using the predict function we use our model to predict the presence of heart disease for our testing data. \n",
    "     \n",
    "     * bind_cols to add the column of predictions to the original test data\n",
    "     * metrics function to get the statistics about the quality of our model\n",
    "     * filter for accuracy \n",
    "     \n",
    "**5) We can pull the estimate and multiply by 100 to get how accurate our model is in percent.** "
   ]
  },
  {
   "cell_type": "code",
   "execution_count": null,
   "metadata": {},
   "outputs": [],
   "source": [
    "#Evalute accuracy\n",
    "set.seed(1234)\n",
    "heart_disease_testing_model <- heart_disease_fit %>%\n",
    "    predict(heart_disease_test) %>%\n",
    "    bind_cols(heart_disease_test) %>%\n",
    "    metrics(truth = Presence_of_Heart_Disease, estimate = .pred_class) %>%\n",
    "    filter(.metric == \"accuracy\")\n",
    "\n",
    "percent_accuracy <- heart_disease_testing_model%>%\n",
    "    pull(.estimate)*100\n",
    "\n",
    "figure_17_title\n",
    "percent_accuracy"
   ]
  },
  {
   "cell_type": "markdown",
   "metadata": {},
   "source": [
    "**6) Finally, we created a visualization of our analysis.**\n",
    "  "
   ]
  },
  {
   "cell_type": "code",
   "execution_count": null,
   "metadata": {},
   "outputs": [],
   "source": [
    "set.seed(1234)\n",
    "\n",
    "\n",
    "heart_predictions <- predict(heart_disease_fit, heart_disease_test) %>%\n",
    "      bind_cols(heart_disease_test)\n",
    "\n",
    "heart_conf_mat <- heart_predictions %>%\n",
    "        conf_mat(truth = Presence_of_Heart_Disease, estimate = .pred_class)    \n",
    "\n",
    "figure_18_title\n",
    "heart_conf_mat"
   ]
  },
  {
   "cell_type": "markdown",
   "metadata": {},
   "source": [
    "**Visualization of Analysis**\n",
    "\n",
    "We now have our confusion matrix, which shows us the number of correctly predicted classifications. This is a visualization method that is hard for humans to understand and difficult to manipulate.\n",
    "\n",
    "The following code produces and wrangles the prediction data to return two tidy dataframes that create a more understandable visualization. The function called measurement_func is a function we created that takes in the dataframe that has the prediction column binded to it and compares the prediction column with the actual result column. It takes each element within the prediction vector and directly compares it through the usage of an if-else statement in order to generate a new vector with the result of that prediction.\n",
    "\n",
    "Using the returned values, which are already tidy, we can easily produce a simple and clear visualization that is much easier to understand than the previous confusion matrix.  "
   ]
  },
  {
   "cell_type": "code",
   "execution_count": null,
   "metadata": {},
   "outputs": [],
   "source": [
    "options(repr.plot.width = 10, repr.plot.height = 10)\n",
    "set.seed(1234)\n",
    "\n",
    "measurement_func <- function(df) {\n",
    "    validity_N <- c()\n",
    "    index_N <- c()\n",
    "    validity_P <- c()\n",
    "    index_P <- c()\n",
    "    for(i in 1:nrow(df)) {\n",
    "        if((slice(df['Presence_of_Heart_Disease'], i) == \"N\")) {\n",
    "            if(slice(df['.pred_class'], i) == \"N\") {\n",
    "                validity_N <- c(validity_N, \"Correct\")\n",
    "                index_N <- c(index_N, (length(index_N)+1))\n",
    "            } else {\n",
    "                validity_N <- c(validity_N, \"Incorrect\")\n",
    "                index_N <- c(index_N, (length(index_N)+1))\n",
    "            }\n",
    "        } else {\n",
    "            if(slice(df['.pred_class'], i) == \"P\") {\n",
    "                validity_P <- c(validity_P, \"Correct\")\n",
    "                index_P <- c(index_P, (length(index_P)+1))\n",
    "            } else {\n",
    "                validity_P <- c(validity_P, \"Incorrect\")\n",
    "                index_P <- c(index_P, (length(index_P)+1))\n",
    "            }\n",
    "        }\n",
    "    }\n",
    "    return(list(\"df1\" = data.frame(index_N, validity_N), \"df2\" = data.frame(index_P, validity_P)))\n",
    "}\n",
    "\n",
    "data <- measurement_func(heart_predictions)\n",
    "\n",
    "graphN <- ggplot(data$df1, aes(x = validity_N, fill = validity_N)) + geom_bar() + labs(x = \"Validity\", y = \"Count\", fill = \"Legend\") + ggtitle(\"Correct vs Incorrect for Negative Presence\")\n",
    "\n",
    "\n",
    "graphP <- ggplot(data$df2, aes(x = validity_P, fill= validity_P)) + geom_bar() + labs(x = \"Validity\", y = \"Count\", fill = \"Legend\") + ggtitle(\"Correct vs Incorrect for Positive Presence\")\n",
    "\n",
    "figure_19_title \n",
    "plot_grid(graphN, graphP)"
   ]
  },
  {
   "cell_type": "markdown",
   "metadata": {},
   "source": [
    "**Breakdown of Visualization**\n",
    "\n",
    "The above graphs each represent a different type of classification: Positive and Negative. The graph on the left are all the negative classifications and the right graph represents all the positive classifications. The plotted value on the x-axis are the two validity outcomes: correctly predicted and incorrectly predicted. They are measured using the y-axis of count meaning how many correctly and how many incorrectly predicted outcomes. The left graph plots the number of  negative predictions: if the model predicts \"N\", it is correct. If predicted \"P\" it is incorrect. The right graph is the same with positive predictions: if the model predicts \"P\" it is correct, predicting \"N\" results an incorrect outcome. \n",
    "\n",
    "We decided to graph the negative vs positive results seperately because predicting correctly when the diagnosis is positive is much more important than predicting correctly when the diagnosis is negative. The seperated graphs make it clear that our model works better when predicting positive results. When the actual result was positive, our model predicted 116 counts correctly and only 22 counts incorrectly resulting in a accuracy of around 85%. When comparing to predicting negative results, we had our model predict 83 correct results and 28 incorrect results which means for negative diagnosis', we had an accuracy of 75%. \n",
    "\n",
    "We have 10% more accurate positive predictions, which is good since predicting wrong on a negative diagnosis results in an unnecessary check-up, but no harmful outcomes, whereas predicting wrong on a positive diagnosis could have serious consequences to the health of the patient. \n",
    "\n",
    "Despite the fact that our model performs better on positive diagnosis' when compared to negative, it is still not completely accurate when predicting heart disease. Further follow up from a doctor is required if our model is used in the medical field as a early warning for heart disease. "
   ]
  },
  {
   "cell_type": "markdown",
   "metadata": {},
   "source": [
    "**Discussion**\n",
    "\n",
    "Through our model we were able to determine that if you use age, blood pressure, and cholesterol levels, type of chest pain and heart rate of an individual, you can predict the presence of heart disease with around 80 percent accuracy. This accuracy enables us to determine the presence of heart disease using these variables, however, in the context of this data, this accuracy is not reliable enough to be a practical determinor. Accuracy should be better than 80%, because it can be a life or death diagnosis. None of these predictors are sure signs that an individual has heart disease. The final analysis matched what we predicted: we can use these variables to predict whether or not an individual has heart disease at a decently high accuracy rate. \n",
    "\n",
    "These findings could serve as a preliminary testing process. If the model predicts that someone has heart disease, it would be very beneficial to quickly get that individual more testing to determine for sure whether or not they have heart disease, however a negative prediction from the model should not alleviate all concern. \n",
    "\n",
    "This could lead to future questions about how to improve the model. Could we build a model that rated how likely a person was to have heart disease, providing a way to decide who needed help most urgently? Are there other predictors that could more accurately determine presence of heart disease? \n"
   ]
  },
  {
   "cell_type": "markdown",
   "metadata": {},
   "source": [
    "**References**\n",
    "\n",
    "Lopez, E., Ballard, B. and Jan, A., 2021. Cardiovascular Disease. [online] Ncbi.nlm.nih.gov. Available at: <https://www.ncbi.nlm.nih.gov/books/NBK535419/> [Accessed 6 December 2021].\n",
    " \n",
    "Archive.ics.uci.edu. 2021. UCI Machine Learning Repository: Heart Disease Data Set. [online] Available at: <https://archive.ics.uci.edu/ml/datasets/Heart+Disease> [Accessed 6 December 2021].\n",
    " \n",
    "Carole L. Hart, David J. Hole and George Davey Smith,  2000. Comparison of Risk Factors for Stroke Incidence and Stroke Mortality in 20 Years of Follow-Up in Men and Women in the Renfrew/Paisley Study in Scotland. [online]  Available at: https://www.ahajournals.org/doi/full/10.1161/01.STR.31.8.1893 [Accessed 6 December 2021].\n",
    "\n",
    "S Nilsson, M Scheike, D Engblom, et al, 2003. Chest pain and ischaemic heart disease in primary care. [online] Available at: https://bjgp.org/content/bjgp/53/490/378.full.pdf [Accessed 6 December 2021].\n"
   ]
  }
 ],
 "metadata": {
  "kernelspec": {
   "display_name": "R",
   "language": "R",
   "name": "ir"
  },
  "language_info": {
   "codemirror_mode": "r",
   "file_extension": ".r",
   "mimetype": "text/x-r-source",
   "name": "R",
   "pygments_lexer": "r",
   "version": "4.0.0"
  }
 },
 "nbformat": 4,
 "nbformat_minor": 4
}
